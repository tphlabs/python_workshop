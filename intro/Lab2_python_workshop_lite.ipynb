{
 "cells": [
  {
   "cell_type": "markdown",
   "metadata": {
    "id": "hVV368DwSmYN"
   },
   "source": [
    "<center>\n",
    "<font size=36> סדנת פייתון למעבדה 2 – פרק א <br></font>\n",
    "עיבוד נתונים בסיסי<br>\n",
    "גרסה 0.2.4\n",
    "</center>\n",
    "\n",
    "<div dir=\"rtl\">\n",
    "2023 גיל בן-ארי גרסה ל-SPYDER  \n",
    "<div dir=\"rtl\">\n",
    "2024 יבגני קולונסקי גרסה ל-Jupyter Notebook\n",
    "\n"
   ]
  },
  {
   "cell_type": "markdown",
   "metadata": {
    "id": "O2EbMZFoSzsw"
   },
   "source": [
    "<div dir=\"rtl\">\n",
    "בסדנה זו תלמדו לעבד את נתוני המעבדה בעזרת שפת פייתון. אנחנו נשתמש בתוכנה ג'ופיטר לכתיבה והרצה של הקוד. המטרה היא ליצור מיומנות בסיסית של ניתוח נתונים והצגתם בגרפים כדי שתוכלו לעבד את הנתונים של המעבדה בקלות. בנוסף, הקוד שתכתבו בסדנה יישמר אצלכם ותוכלו לחזור ולהיעזר בו בעתיד.\n",
    "<div dir=\"rtl\">\n",
    "היקף הסדנה הוא שעתיים, בסופה יהיו ברשותכם קבצי קוד שיכילו את כל הפקודות שלמדתם ותוכלו לעשות בהם שימוש במהלך המעבדה."
   ]
  },
  {
   "cell_type": "markdown",
   "metadata": {
    "id": "OQ3YeQ__EDLd"
   },
   "source": [
    "<div dir=\"rtl\">\n",
    "\n",
    "# תוכן הסדנה:\n",
    "1. [ חלק א' - התקנת אנקונדה](#alef)\n",
    "1. [ חלק ב' - סביבת עבודה Jupyter Notebook](#bet)\n",
    "1. [חלק ג' – עיבוד נתוני המעבדה ](#gimel)\n",
    "  1. [כתיבת וקטור נתונים (כל כללי כתיבת וקטורים ב-16 סעיפי תרגול)](#g1)\n",
    "  1. [ביצוע חישוב על וקטורי נתונים, כתיבת פונקציה (9 סעיפים וגם אתם כותבים פונקציות)](#g2)\n",
    "  1. [חישוב עקום תיאורטי (7 סעיפים ואתם שם)](#g3)\n",
    "  1. [טעינת נתונים מקובץ (7 סעיפי תרגול)](#g4)\n",
    "  1. [הצגת נתונים בגרף (3 סעיפים ליצירת גרף)](#g5)\n",
    "  1. [ביצוע רגרסיה לינארית (18 סעיפים לכלי שימושי)](#g6)\n",
    "  1. [ביצוע אינטגרציה לווקטור נתונים (2 סעיפי ביצוע אחרונים)](#g7)\n",
    "1. [סיכום](#sikum)\n"
   ]
  },
  {
   "cell_type": "markdown",
   "metadata": {
    "id": "Xa1nVBqkTBba"
   },
   "source": [
    "<div dir=\"rtl\">\n",
    "\n",
    "#  חלק א' – התקנת ANACONDA  <a name=\"alef\"></a>\n"
   ]
  },
  {
   "cell_type": "markdown",
   "metadata": {
    "id": "yUEJ1RdBTFx5"
   },
   "source": [
    "<div dir=\"rtl\">\n",
    "בצעו התקנה של\n",
    "Anaconda:\n",
    "\n",
    "[https://docs.anaconda.com/anaconda/install/windows/](https://docs.anaconda.com/anaconda/install/windows/)"
   ]
  },
  {
   "cell_type": "markdown",
   "metadata": {
    "id": "rKQwbZHcTfOg"
   },
   "source": [
    "<div dir=\"rtl\">\n",
    "    \n",
    "# חלק ב' – סביבת עבודה Jupyter Notebook  <a name=\"bet\"></a>\n",
    "<div dir=\"rtl\">\n",
    "הערכת זמן: כ- 15 דק'\n",
    "<div dir=\"rtl\">\n",
    "קראו:\n",
    "\n",
    "[What is the Jupyter Notebook?](https://jupyter-notebook.readthedocs.io/en/stable/examples/Notebook/What%20is%20the%20Jupyter%20Notebook.html) ו-[Notebook Basics](https://jupyter-notebook.readthedocs.io/en/stable/examples/Notebook/Notebook%20Basics.html)\n",
    "\n",
    "<div dir=\"rtl\">\n",
    "קראו:\n",
    "    \n",
    "[Running code, getting help](https://jupyter-notebook.readthedocs.io/en/stable/examples/Notebook/Running%20Code.html)\n",
    "\n",
    "<div dir=\"rtl\">\n",
    "קראו:\n",
    "    \n",
    "[Understanding Markdown Cells](https://jupyter-notebook.readthedocs.io/en/stable/examples/Notebook/Working%20With%20Markdown%20Cells.html)\n",
    "\n"
   ]
  },
  {
   "cell_type": "markdown",
   "metadata": {
    "id": "J-kCJaYeVhKc"
   },
   "source": [
    "<div dir=\"rtl\">\n",
    "\n",
    "# חלק ג' – עיבוד נתוני המעבדה (מתחילים לעבוד)  <a name=\"gimel\"></a>\n"
   ]
  },
  {
   "cell_type": "markdown",
   "metadata": {
    "id": "PXc9y7YiVqc5"
   },
   "source": [
    "<div dir=\"rtl\">\n",
    "באופן כללי, הפעולות הנדרשות לעיבוד הנתונים במעבדה הן: <br>\n",
    "1.\tכתיבת וקטור נתונים <br>\n",
    "2.\tביצוע חישוב על וקטורי נתונים (כתיבת פונקציה) <br>\n",
    "3.\tחישוב עקום תיאורטי<br>\n",
    "4.\tטעינת נתונים מקובץ<br>\n",
    "5.\tהצגת נתונים בגרף<br>\n",
    "6.\tביצוע רגרסיה לינארית<br>\n",
    "7.\tביצוע אינטגרציה לווקטור נתונים<br>\n",
    "ואלו הן בדיוק הפעולות שתלמדו בפרק זה. כמו שאמרנו, זהו שיעור ב\"עיבוד נתונים בסיסי\".\n",
    "\n",
    "<div dir=\"rtl\">\n",
    "כדי לעבד את הנתונים, נשתמש ב-\n",
    "**מודולים**\n",
    "(ספריות פיתון המכילות פונקציות ואובייקטים סטנדרטיים) הבאים:\n"
   ]
  },
  {
   "cell_type": "code",
   "execution_count": null,
   "metadata": {
    "id": "xFypo-x5SlcE"
   },
   "outputs": [],
   "source": [
    "# Run cell by pressing Ctrl-Enter (or Shift-Enter)\n",
    "\n",
    "import numpy as np # vectors and matrices function\n",
    "import scipy # scientific functions\n",
    "import matplotlib.pyplot as plt # plotting figures\n",
    "from scipy.stats import linregress # for linear regression (fitting a line to data points)"
   ]
  },
  {
   "cell_type": "markdown",
   "metadata": {
    "id": "lukCVI0EWuGs"
   },
   "source": [
    "<div dir=\"rtl\">\n",
    "אתם בוודאי תוהים מה הקוד שהרצתם עושה, אז נשים לב למספר כללים שיעזרו לכם:\n",
    "\n",
    "*   הפקודות בפיתון חייבות להיכתב בתחילת השורה! בלי רווחים. רווח כזה יגרום להודעת שגיאה unexpected indent (מוזמנים לנסות).\n",
    "*  שפת פיתון היא case sensitive, כלומר ``My_temp`` ו-``my_temp`` אלו שני משתנים שונים.\n",
    "* הערות בקוד מתחילות בסימן ``\"#\"``\n",
    "* לפיתון יש ספריות שמכילות פונקציות מוכנות. כדי לייבא ספרייה (להפוך את הפונקציות שבה לזמינות לשימוש בקוד) משתמשים בפקודה ``import`` ואחריה שם הספרייה.\n",
    "* אפשר לתת כינוי לספרייה בעזרת המילה as כדי לקצר את שם הספרייה כשתפנו אליה בהמשך.\n",
    "* לספריות יכולות להיות תתי ספריות, למשל ``pyplot`` היא תת ספריה של ``matplotlib``.\n",
    "* במקום ספרייה, ניתן לייבא רק פונקציה ספציפית מתוכה, למשל הפונקציה ``linregress ``מתוך תת הספרייה ``stats`` של הספרייה ``scipy``.\n",
    "\n",
    "\n",
    "\n"
   ]
  },
  {
   "cell_type": "markdown",
   "metadata": {
    "id": "3iVBwWlEaPvQ"
   },
   "source": [
    "<div dir=\"rtl\">\n",
    "קראו את ההערות הרשומות ליד כל פקודת ``import``.\n",
    "<div dir=\"rtl\">\n",
    "הספריות הנ\"ל מכילות פונקציות שיאפשרו את מכלול הפעולות הבאות:\n",
    "    \n",
    "1.\tכתיבת וקטור נתונים\n",
    "2.\tביצוע חישוב על וקטורי נתונים (כתיבת פונקציה)\n",
    "3.\tחישוב עקום תיאורטי\n",
    "4.\tטעינת נתונים מקובץ\n",
    "5.\tהצגת נתונים בגרף\n",
    "6.\tביצוע רגרסיה לינארית\n",
    "7.\tביצוע אינטגרציה לווקטור נתונים\n",
    "\n",
    "<div dir=\"rtl\">\n",
    "    (מומלץ כבר עכשיו לעשות את הקישור בין ספריות ספציפיות לפעולות)"
   ]
  },
  {
   "cell_type": "markdown",
   "metadata": {
    "id": "eLUknk54ac95"
   },
   "source": [
    "<div dir=\"rtl\">\n",
    "\n",
    "## 1.\tכתיבת וקטור נתונים (כל כללי כתיבת וקטורים ב-16 סעיפי תרגול) <a name=\"g1\"></a>"
   ]
  },
  {
   "cell_type": "markdown",
   "metadata": {
    "id": "NAqjX5U_ajrY"
   },
   "source": [
    "<div dir=\"rtl\">\n",
    "\n",
    "1.\tבתוך ה-cell, כתבו\n",
    "``vec1=[1,2,3]``\n",
    " והריצו את ה-cell"
   ]
  },
  {
   "cell_type": "code",
   "execution_count": null,
   "metadata": {
    "id": "BozN9ajqa5g-"
   },
   "outputs": [],
   "source": [
    "# Run cell by pressing Shift-Enter or Ctrl-Enter\n",
    "vec1=[1,2,3]"
   ]
  },
  {
   "cell_type": "markdown",
   "metadata": {
    "id": "jNosvKvZbdwV"
   },
   "source": [
    "<div dir=\"rtl\">\n",
    "\n",
    "2. מהו סוג האובייקטים שבתוך ``vec1``?"
   ]
  },
  {
   "cell_type": "code",
   "execution_count": null,
   "metadata": {
    "id": "BrJS5qfLn1JZ"
   },
   "outputs": [],
   "source": [
    "# Run cell\n",
    "vec1?"
   ]
  },
  {
   "cell_type": "markdown",
   "metadata": {
    "id": "WUn6INpQcI5j"
   },
   "source": [
    "<div dir=\"rtl\">\n",
    "האובייקט הבסיסי של פייתון הוא רשימה (``list``):\n",
    "    \n",
    "*\tיוצרים אותה בעזרת סוגריים מרובעים.\n",
    "*\tניתן לשים ברשימה כל אובייקט שהוא.\n",
    "*\tפנייה לחלק מהאיברים ברשימה נקראת list slicing. באופן בסיסי הפנייה היא בפורמט ``mylist[start_index:end_index:index_step]``. שימו לב: ה-`end_index` עצמו לא נכלל.\n",
    "*\tכדי להוסיף איבר לסוף הרשימה, משתמשים בפקודה ``append()``\n",
    "\n",
    "<div dir=\"rtl\">\n",
    "בואו נשחק עם זה קצת:"
   ]
  },
  {
   "cell_type": "markdown",
   "metadata": {
    "id": "FHiuZ2n4cXBa"
   },
   "source": [
    "<div dir=\"rtl\">\n",
    "\n",
    "3.\tהוסיפו ל\n",
    "`vec1`\n",
    "את האיבר 12 בעזרת"
   ]
  },
  {
   "cell_type": "code",
   "execution_count": null,
   "metadata": {
    "id": "R2vepyEppPcN"
   },
   "outputs": [],
   "source": [
    "# Run cell\n",
    "vec1.append(12)"
   ]
  },
  {
   "cell_type": "markdown",
   "metadata": {
    "id": "wvvggCfZpQIO"
   },
   "source": [
    "<div dir=\"rtl\">\n",
    "\n",
    "4.\tהפכו את האיבר הראשון ל-24 בעזרת"
   ]
  },
  {
   "cell_type": "code",
   "execution_count": null,
   "metadata": {
    "id": "j4-Lx4VpqMaT"
   },
   "outputs": [],
   "source": [
    "# Run cell\n",
    "vec1[0] = 24"
   ]
  },
  {
   "cell_type": "markdown",
   "metadata": {
    "id": "zw7fg615p7cK"
   },
   "source": [
    "<div dir=\"rtl\">\n",
    "\n",
    "5.\tהדפיסו את שלושת האיברים הראשונים בעזרת"
   ]
  },
  {
   "cell_type": "code",
   "execution_count": null,
   "metadata": {
    "colab": {
     "base_uri": "https://localhost:8080/"
    },
    "id": "eRw8pg4kqSsK",
    "outputId": "2ef29b01-1425-40a0-d2e6-348c5ca8d69d"
   },
   "outputs": [],
   "source": [
    "# Run cell\n",
    "print(vec1[0 : 3])"
   ]
  },
  {
   "cell_type": "markdown",
   "metadata": {
    "id": "z15vxXFap9a6"
   },
   "source": [
    "<div dir=\"rtl\">\n",
    "\n",
    "6.\tהדפיסו את האיברים באינדקסים הזוגיים בעזרת"
   ]
  },
  {
   "cell_type": "code",
   "execution_count": null,
   "metadata": {
    "colab": {
     "base_uri": "https://localhost:8080/"
    },
    "id": "idRe7ek7qiiB",
    "outputId": "1d4bb4a3-06ca-4d6c-85d1-2d901572d950"
   },
   "outputs": [],
   "source": [
    "# Run cell\n",
    "print(vec1[0 : : 2])"
   ]
  },
  {
   "cell_type": "markdown",
   "metadata": {
    "id": "P_FKwyBHqANI"
   },
   "source": [
    "<div dir=\"rtl\">\n",
    "\n",
    "7.\tהדפיסו את כל האיברים בסדר הפוך בעזרת"
   ]
  },
  {
   "cell_type": "code",
   "execution_count": null,
   "metadata": {
    "colab": {
     "base_uri": "https://localhost:8080/"
    },
    "id": "sy8s37wwqqLh",
    "outputId": "32daf612-96ee-4d0e-d946-f20a04f34353"
   },
   "outputs": [],
   "source": [
    "# Run cell\n",
    "print(vec1[ : :-1])"
   ]
  },
  {
   "cell_type": "markdown",
   "metadata": {
    "id": "YY9v_m3hqCju"
   },
   "source": [
    "<div dir=\"rtl\">\n",
    "\n",
    "8.\tהדפיסו את האיבר האחרון בעזרת"
   ]
  },
  {
   "cell_type": "code",
   "execution_count": null,
   "metadata": {
    "colab": {
     "base_uri": "https://localhost:8080/"
    },
    "id": "RJd-mDOUqv9x",
    "outputId": "8e8ee416-b90e-45da-9f41-30e46c4f3bbc"
   },
   "outputs": [],
   "source": [
    "# Run cell\n",
    "print(vec1[-1])"
   ]
  },
  {
   "cell_type": "markdown",
   "metadata": {
    "id": "2dPSo4O3qEp8"
   },
   "source": [
    "<div dir=\"rtl\">\n",
    "\n",
    "9.\tהדפיסו את האורך של הרשימה בעזרת הפונקציה `len()`:  "
   ]
  },
  {
   "cell_type": "code",
   "execution_count": null,
   "metadata": {
    "colab": {
     "base_uri": "https://localhost:8080/"
    },
    "id": "SS2ynksSq1Zg",
    "outputId": "4dbf87af-d91d-4732-c7cd-1eb5de65e2a2"
   },
   "outputs": [],
   "source": [
    "# Run cell\n",
    "print(len(vec1))"
   ]
  },
  {
   "cell_type": "markdown",
   "metadata": {
    "id": "TlvAC896qHEk"
   },
   "source": [
    "<div dir=\"rtl\">\n",
    "10.הדפיסו את שני האיברים האחרונים, בסדר הפוך. (כי למה לא... בהצלחה...)\n",
    "\n",
    "<div dir=\"rtl\">\n",
    "למידע נוסף – חפשו list slicing python בגוגל."
   ]
  },
  {
   "cell_type": "code",
   "execution_count": null,
   "metadata": {
    "id": "cwR9lmxQWLBC"
   },
   "outputs": [],
   "source": [
    "# place your code here"
   ]
  },
  {
   "cell_type": "markdown",
   "metadata": {
    "direction": "rtl",
    "id": "W7DRDVtJdScX"
   },
   "source": [
    "<div dir=\"rtl\">\n",
    "\n",
    "11.\tכתבו\n",
    "</div>\n",
    "\n",
    "```python\n",
    "vec2=vec1/2\n",
    "```\n",
    "<div dir=\"rtl\">\n",
    "\n",
    "והריצו את הcell.\n",
    "מהי הודעת השגיאה שקיבלתם?"
   ]
  },
  {
   "cell_type": "code",
   "execution_count": null,
   "metadata": {
    "id": "x27_wz7_rFCm"
   },
   "outputs": [],
   "source": [
    "# Run cell\n",
    "vec2 = vec1 / 2"
   ]
  },
  {
   "cell_type": "markdown",
   "metadata": {
    "id": "GAjE99UhrIuI"
   },
   "source": [
    "\n",
    "<div dir=\"rtl\">\n",
    "מהי הבעיה? מכיוון שlist יכול להכיל כל מיני סוגי אובייקטים, לא מוגדר מה הפונקציה של חילוק (\"/\") צריכה לבצע והתוכנה מודיעה על שגיאה.\n",
    "<div dir=\"rtl\">\n",
    "אנחנו נרצה לבצע פעולות מתמטיות על וקטורי הנתונים שלנו, לכן עלינו להשתמש בספרייה ``numpy`` (או בקיצור – ``np``).\n",
    "<div dir=\"rtl\">\n",
    "האובייקט הבסיסי של np הוא מערך array)). על ``np.array`` ניתן לבצע את כל הפעולות המתמטיות שנרצה. ה-slicing הוא זהה לזה של ``list``.\n",
    "<div dir=\"rtl\">\n",
    "    לפיכך: ** <b>תמיד</b> נקליד וקטורי נתונים כמערכי\n",
    "``numpy``**.\n"
   ]
  },
  {
   "cell_type": "markdown",
   "metadata": {
    "id": "0Zk-7r60tqU6"
   },
   "source": [
    "<div dir=\"rtl\">\n",
    "\n",
    "12.\tהפכו את\n",
    "`vec1` ל`np.array` על ידי\n",
    "</div>\n",
    "\n",
    "```python\n",
    "vec1 = np.array([1, 2, 3])\n",
    "```\n",
    "\n",
    "<div dir=\"rtl\">\n",
    "13.\tבדקו שכעת ניתן לחלק אותו ל-2, ושחישוב על `np.array` מחזיר משתנה מסוג `np.array`.\n",
    "\n"
   ]
  },
  {
   "cell_type": "code",
   "execution_count": null,
   "metadata": {
    "id": "Z58GVtYq2MB_",
    "scrolled": true
   },
   "outputs": [],
   "source": [
    "# Run cell\n",
    "vec1 = np.array([1, 2, 3])\n",
    "vec1 = vec1 / 2"
   ]
  },
  {
   "cell_type": "markdown",
   "metadata": {
    "id": "BRv1_8WN2MB_"
   },
   "source": [
    "<div dir=\"rtl\">\n",
    " הסתכלו על סוג המשתנה:"
   ]
  },
  {
   "cell_type": "code",
   "execution_count": null,
   "metadata": {
    "id": "-olqqKeQriPG"
   },
   "outputs": [],
   "source": [
    "# Run cell\n",
    "vec1?"
   ]
  },
  {
   "cell_type": "markdown",
   "metadata": {
    "id": "FwEeJh_5rgIJ"
   },
   "source": [
    "<div dir=\"rtl\">\n",
    "\n",
    "14.\tצרו וקטור נתונים חדש בשם\n",
    "`times`\n",
    "ורשמו בו את הערכים  `0.1`, `0.12`, `0.23`, `0.45`, `0.5`.\n",
    " (בשורת קוד אחת בבקשה, ושיהיה מה-type הנכון).\n",
    "15.\tציינו בהערה בסוף הפקודה שהיחידות הן שנייות והשגיאה היא +-0.01 למשל, כתבו `# in sec, +-0.01`\n",
    "16.\tהריצו את הקוד וודאו שקיבלתם את ``type`` הנכון עבור ``times``."
   ]
  },
  {
   "cell_type": "code",
   "execution_count": null,
   "metadata": {
    "id": "yHIZbB3ZtMHR"
   },
   "outputs": [],
   "source": [
    "# place your code here"
   ]
  },
  {
   "cell_type": "markdown",
   "metadata": {
    "id": "9Vc-7zmctO6q"
   },
   "source": [
    "<div dir=\"rtl\">\n",
    "הסתכלו על השורה שכתבתם – זה הפורמט בו תקלידו וקטורי נתונים במעבדה. יש להקפיד תמיד לציין יחידות והערכת שגיאה, והווקטור צריך להיות מסוג ``numpy.array``\n"
   ]
  },
  {
   "cell_type": "markdown",
   "metadata": {
    "id": "UykWvN21vYKN"
   },
   "source": [
    "<div dir=\"rtl\">\n",
    "\n",
    "## 2.\tביצוע חישוב על וקטורי נתונים, כתיבת פונקציה (9 סעיפים וגם אתם כותבים פונקציות) <a name=\"g2\"></a>\n",
    "\n"
   ]
  },
  {
   "cell_type": "markdown",
   "metadata": {
    "id": "sKfkW7EDvvik"
   },
   "source": [
    "<div dir=\"rtl\">\n",
    "לצורך התרגיל, נניח שהווקטור times מכיל זמנים בהם מדדנו נפילה חופשית של גוף כלשהו, תחת תאוצה הכבידה. כעת נחשב את המיקום (הגובה) של הגוף בזמנים הנתונים שכביכול מדדנו במעבדה.\n",
    "\n",
    "1.\tצרו את המשתנים\n",
    "</div>\n",
    "\n",
    "```python\n",
    "x0 = 0.8 # m\n",
    "v = 1.6 # m/sec\n",
    "a = -9.8 # m/sec**2\n",
    "```\n",
    "<div dir=\"rtl\">\n",
    "וציינו יחידות של $m$, $\\frac{m}{s}$, $\\frac{m}{s^2}$ .\n",
    "<div dir=\"rtl\">\n",
    "(כן, יחידות זה חשוב. \"משיקולי יחידות\" וכו')\n"
   ]
  },
  {
   "cell_type": "code",
   "execution_count": null,
   "metadata": {
    "id": "80ubcc9neXUl"
   },
   "outputs": [],
   "source": [
    "# place yor code here"
   ]
  },
  {
   "cell_type": "markdown",
   "metadata": {
    "id": "ZA9_o_mlwayg"
   },
   "source": [
    "<div dir=\"rtl\">\n",
    "\n",
    "2.\tחשבו את הווקטור\n",
    "$\\text{distances}$\n",
    "לפי משוואת התנועה\n",
    "$$\n",
    "\\text{distances} = x_0 + v \\cdot \\text{times} + a \\frac{\\text{times}^2}{2}\n",
    "$$\n",
    " עבור המיקום ההתחלתי\n",
    "$x_0$,\n",
    "המהירות\n",
    "$v$,\n",
    "התאוצה\n",
    "$a$\n",
    "והזמנים\n",
    "$\\text{times}$.\n",
    "\n",
    "<div dir=\"rtl\">\n",
    "יש לכתוב שורת קוד אחת.  ציינו את היחידות בסוף השורה.\n"
   ]
  },
  {
   "cell_type": "code",
   "execution_count": null,
   "metadata": {
    "id": "MObPgUrryMqc"
   },
   "outputs": [],
   "source": [
    "# place your code here"
   ]
  },
  {
   "cell_type": "markdown",
   "metadata": {
    "id": "u2YfLs0-x3pp"
   },
   "source": [
    "<div dir=\"rtl\">\n",
    "כפי שראיתם, הפעולות המתמטיות הבסיסות פועלות על\n",
    "`numpy.array`\n",
    "כצפוי.\n",
    " כדי לבצע פעולות יותר מסובכות, נשתמש מפורשות בספריית\n",
    "`numpy`.\n",
    "באופן כללי, כל פונקציה מוכרת\n",
    " (כזאת שאתם יכולים להקליד למנוע חיפוש של\n",
    " `wolfram alpha`\n",
    "או למחשבון)\n",
    "קיימת ב\n",
    "`numpy`.\n",
    "\n",
    "<div dir=\"rtl\">\n",
    " דוגמאות:\n",
    "<div dir=\"ltr\">\n",
    "np.abs() , np.sqrt() , np.arctan()\n",
    "    \n"
   ]
  },
  {
   "cell_type": "markdown",
   "metadata": {
    "id": "PZFXjtlC2-kj"
   },
   "source": [
    "<div dir=\"rtl\">\n",
    "3.\tחשבו את השגיאה הנגררת של וקטור המרחקים ``distances_err`` לפי הנוסחה:\n",
    "$$ \\text{distances\\_err} = \\left|\\frac{dx}{dt}\\right| \\cdot \\delta t = |v + a\\cdot t| \\cdot 0.01$$\n",
    "\n",
    "4. עגלו את השגיאה לספרה משמעותית. מומלץ להשתש בדוקומנטציה של np.round (ע\"י הקלדת np.round?) ושימוש בפונקציות מספריית Numpy דוגמת np.abs.\n",
    "\n"
   ]
  },
  {
   "cell_type": "code",
   "execution_count": null,
   "metadata": {
    "id": "SGaJvTSqxZU-"
   },
   "outputs": [],
   "source": [
    "# place your code here"
   ]
  },
  {
   "cell_type": "markdown",
   "metadata": {
    "id": "AbbBzQWxy-6Y"
   },
   "source": [
    "<div dir=\"rtl\">\n",
    "\n",
    "5.\tהגדרת פונקציות.\n",
    "<div dir=\"rtl\">\n",
    "נדגים כעת כתיבה של פונקציה. בכל שפת תכנות, לפונקציות יש 3 תכונות:\n",
    "*\tשם הפונקציה (למשל ``functionName``)\n",
    "*\tהארגומנטים שהיא מקבלת  - ``input``\n",
    "*\tהערכים שהיא מחזירה – ``output``\n",
    "    \n",
    "<div dir=\"rtl\">\n",
    "השימוש בפונקציה (\"הקריאה לפונקציה\") הוא תמיד באמצעות הפקודה:\n",
    "</div>\n",
    "\n",
    "```python\n",
    "the_corresponding_output = functionName(some_specific_input)\n",
    "```\n",
    "<div dir=\"rtl\">\n",
    "הסינטקס שבו מגדירים את הפונקציות משתנה משפה לשפה. פונקציה בפיתון כותבים באופן הבא:\n",
    "</div>\n",
    "\n",
    "<div dir=\"ltr\">\n",
    "    \n",
    "```python\n",
    "def functionName(argument1, argument2, argument3):\n",
    "\t# some calculation on the arguments, for example:\n",
    "\ttemp1 = np.max(argument1) + 50 * argument2\n",
    "    # return the requested output: (can perform calculations on the return line as well)\n",
    "\treturn np.abs(np.sqrt(argument3)) - temp1\n",
    "```\n"
   ]
  },
  {
   "cell_type": "markdown",
   "metadata": {
    "id": "biq1qPb3chQ5"
   },
   "source": [
    "<div dir=\"rtl\">\n",
    "נשים לב:\n",
    "    \n",
    "*\tפונקציה נפתחת במילית השמורה ``def`` (קיצור של define)\n",
    "*\tהארגומנטים לפונקציה מוגדרים בסוגריים עגולים `()`.\n",
    "*\tשמות הארגומנטים מוגדרים בשורת ה-``def`` וקיימים רק בתוך הקונטקסט של הפונקציה. אם אתם משתמשים בשם של משתנה שמוגדר כבר מחוץ לפונקציה, ערך הארגומנט \"ידרוס\" את הערך הזה בתוך הקונטקסט של הפונקציה.\n",
    "*\tהשורה ``def`` מסתיימת בנקודותיים שמסמנות פתיחה של code block והשורות שבתוך הblock מוזחות (indented) בtab בודד או 4Xspace במקלדת (ביחס לשורה של ה-“:”). שורות שאינן בתוך הפונקציה ייכתבו בהזחה רגילה – כלומר ללא הזחה. (אפשר לכתוב code block שהוא בתוך code block אחר וכן הלאה. ההזחה מסמנת את ההיררכיה.)\n",
    "*\tהערך שמוחזר מהפונקציה נכתב אחרי המילית return.\n",
    "*\tאפשר לכתוב פונקציה בתוך פונקציה. או slicing אחרי פונקציה, בתוך פונקציה. או slicing של slicing בתוך פונקציה של פונקציה. בכללי בפיתון, התשובה לשאלה \"האם אפשר...\" היא בדרך כלל \"כן, תנסו!\" וכדאי לצאת מנקודת ההנחה הזאת כשכותבים קוד בפיתון =)\n",
    "*\tבניגוד ל-`list` או פעולות slicing שמשתמשים בהן בסוגריים מרובעים `[]`, סוגריים עגולים יוצרים אובייקט שנקרא `tuple` – כמו רשימה, אבל אי אפשר לשנות את התוכן של `tuple` אחרי שהוא נוצר. אם רוצים להחזיר מהפונקציה מספר ערכים, מחזירים אותם כ-`tuple`.\n",
    "\n",
    "<div dir=\"rtl\">\n",
    "    <b>לדוגמה:</b>\n",
    "</div>\n",
    "\n",
    "<div dir=\"ltr\">\n",
    "        \n",
    "```python\n",
    "def func1(arg1, arg2):\n",
    "  return (arg1/2, arg2+5)\n",
    "(A,B) = func1(2.2,15)\n",
    "```\n",
    "<div dir=\"rtl\">\n",
    "    \n",
    "6.\tבחנו: אילו משתנים יווצרו אחרי הרצת הקוד הנ\"ל?"
   ]
  },
  {
   "cell_type": "code",
   "execution_count": null,
   "metadata": {
    "id": "7rsaXBEy2MCL"
   },
   "outputs": [],
   "source": [
    "# place your code here"
   ]
  },
  {
   "cell_type": "markdown",
   "metadata": {
    "id": "bKEaFCYZ2MCL"
   },
   "source": [
    "<div dir=\"rtl\">\n",
    "    \n",
    "7.\tנניח שנרצה לדעת מתי הגוף הנופל עובר גובה מסוים. כתבו פונקציה בשם ``timeOfCrossing`` שמקבלת וקטור זמן ``t``, וקטור מרחק ``d`` וערך חצייה ``cross_value`` ומחזירה את הזמן בו המרחק של הגוף היה הכי קרוב לערך החצייה (הזמן שמתאים לאיבר ב-``d`` שהוא הקרוב ביותר ל- ``cross_value`` בערך מוחלט).\n",
    "<div dir=\"rtl\">\n",
    "ניתן להשתמש בפונקציה\n",
    "``np.argmin()``."
   ]
  },
  {
   "cell_type": "code",
   "execution_count": null,
   "metadata": {
    "id": "c6-3tb3h2MCM"
   },
   "outputs": [],
   "source": [
    "# place your code here"
   ]
  },
  {
   "cell_type": "markdown",
   "metadata": {
    "direction": "rtl",
    "id": "PovraSlldLBQ"
   },
   "source": [
    "<div dir=\"rtl\">\n",
    "    \n",
    "8.\tאם נריץ את\n",
    "`cross_time = timeOfCrossing(times, distances, 0.5)`\n",
    ",\n",
    "מה הערך שיתקבל ב-`cross_time?`\n",
    "\n",
    "9.\tבדקו שאתם אכן מקבלים את הערך הרצוי.\n"
   ]
  },
  {
   "cell_type": "code",
   "execution_count": null,
   "metadata": {
    "id": "DLdcs9lgATTD"
   },
   "outputs": [],
   "source": [
    "# place your code here"
   ]
  },
  {
   "cell_type": "markdown",
   "metadata": {
    "id": "mz4VEtHdevEq"
   },
   "source": [
    "<div dir=\"rtl\">\n",
    "\n",
    "## 3.\tחישוב עקום תיאורטי (7 סעיפים ואתם שם) <a name=\"g3\"></a>\n",
    "</br>\n",
    "<div dir=\"rtl\">\n",
    "לעיתים נרצה לחשב וקטורים תיאורטיים, למשל כדי לפתור משוואות בצורה נומרית או כדי לשרטט ערכים תיאורטיים ליד נתונים מדודים. כעת נדגים איך לעשות זאת."
   ]
  },
  {
   "cell_type": "markdown",
   "metadata": {
    "id": "GP0x673Ee3qb"
   },
   "source": [
    "<div dir=\"rtl\">\n",
    "    \n",
    "1. העזרו ב np.linspace? או פנו לאתר הדוטומנטציה של [``np.linspace``](https://numpy.org/doc/stable/reference/generated/numpy.linspace.html)\n",
    "וקראו רק את התיאור שמסביר מה הפונקציה עושה ואת הדוגמה הראשונה (הדוגמאות מופיעות למטה).\n",
    "3.\tבעזרת ``np.linspace()``, צרו ווקטור בשם ``theoretical_t`` שמכיל 30 זמנים בין 0 ל-1 שניות (אתם מוזמנים להעתיק את הדוגמה ולערוך אותה בהתאם לצרכים שלכם). הריצו את ה-cell וודאו שקיבלתם את הערכים הנכונים.\n"
   ]
  },
  {
   "cell_type": "code",
   "execution_count": null,
   "metadata": {
    "id": "3qx8zgFSAp_S"
   },
   "outputs": [],
   "source": [
    "# place your code here"
   ]
  },
  {
   "cell_type": "markdown",
   "metadata": {
    "id": "ln1DWYuOAkrD"
   },
   "source": [
    "<div dir=\"rtl\">\n",
    "\n",
    "3.\tהדפיסו את קבוע הכבידה בעזרת ``scipy.constants.g``. אם אתם מקבלים הודעת שגיאה, בצעו ייבוא מפורש (``import``) לתת הספרייה ``scipy.constants``.\n"
   ]
  },
  {
   "cell_type": "code",
   "execution_count": null,
   "metadata": {
    "id": "sum_2bt4A3Vg"
   },
   "outputs": [],
   "source": [
    "# place your code here"
   ]
  },
  {
   "cell_type": "markdown",
   "metadata": {
    "id": "jcnbBEeNAzh9"
   },
   "source": [
    "<div dir=\"rtl\">\n",
    "\n",
    "4.\tכתבו פונקציה בשם\n",
    "`theoreticalCrossingTime`\n",
    " שמקבלת וקטור זמנים\n",
    " `t`,\n",
    "מרחק התחלתי\n",
    " `x0`,\n",
    " מהירות התחלתית\n",
    " `v`\n",
    " וערך חצייה\n",
    " `cross_value`.\n",
    " הפונקציה צריכה  להשתמש ב\n",
    " `g`\n",
    "  כתאוצת הכבידה ובפונקציה\n",
    "  `timeOfCrossing`\n",
    "  שכבר כתבתם. היא תחזיר את הזמן התיאורטי בו התנועה תחצה את הערך\n",
    "  `cross_value`.\n"
   ]
  },
  {
   "cell_type": "code",
   "execution_count": null,
   "metadata": {
    "id": "bDx0sCduBDH_"
   },
   "outputs": [],
   "source": [
    "# place your code here"
   ]
  },
  {
   "cell_type": "markdown",
   "metadata": {
    "id": "D2g1EImqA_za"
   },
   "source": [
    "<div dir=\"rtl\">\n",
    "\n",
    "5.\tהשתמשו בפונקציה שכתבתם כדי לחשב את\n",
    "`theoretical_cross_time`\n",
    " עבור\n",
    " `cross_value=0.5`\n",
    " והמרחק ההתחלתי והמהירות שהיו נתונים בסעיפים הקודמים. האם קיבלתם זמן הגיוני?\n",
    "6.\tבכמה משתנה התשובה אם אתם מגדירים שווקטור הזמנים התיאורטי יהיה באורך 1000?\n",
    "7.\tבכמה שונה התשובה התיאורטית הכי מדויקת מזו שחישבתם מתוך וקטור ה\"נתונים\"?\n",
    "\n",
    "<div dir=\"rtl\">\n",
    "לסיכום, כאשר אתם רוצים לחשב ווקטור תיאורטי, אתם תשתמשו ב-``np.linspace()`` כדי להגדיר ערכים התחלתיים ואחר כך תבצעו עליהם את החישובים המתאימים.\n",
    "כמו כן, תוכלו למצוא קבועים פיזיקליים ספרותיים ב-``scipy.constants``. ראו את תיעוד הספרייה לפירוט נוסף.\n"
   ]
  },
  {
   "cell_type": "markdown",
   "metadata": {
    "id": "SEIyQT3CfhVn"
   },
   "source": [
    "<div dir=\"rtl\">\n",
    "\n",
    "## 4.\tטעינת נתונים מקובץ (6 סעיפי תרגול) <a name=\"g4\"></a>\n"
   ]
  },
  {
   "cell_type": "markdown",
   "metadata": {
    "id": "8vfb7yAWiD_I"
   },
   "source": [
    "<div dir=\"rtl\">\n",
    "הפונקציה שמאפשרת טעינת נתונים מקובץ היא\n",
    "\n",
    "[`np.loadtxt`](https://numpy.org/doc/stable/reference/generated/numpy.loadtxt.html).\n",
    "\n",
    "<div dir=\"rtl\">\n",
    "    \n",
    "1.\t בחלק הזה תעבדו עם קובץ בשם Trace.csv. הקובץ זמין להורדה באתר המודל ליד המחברת.\n",
    "הקיצור ``csv`` משמעו ``\"comma separated values\"``. <br>\n",
    "הקובץ נוצר על ידי אחד ממכשירי המעבדה, האוסצילוסקופ, המשמש למדידת מתחים חשמליים.    <br>\n",
    "הורידו את הקובץ ופתחו אותו.\n",
    "    \n",
    "<div dir=\"rtl\">\n",
    "    \n",
    "2.\tהאם אתם מזהים את הנתונים? ה\"ערכים שמופרדים על ידי פסיקים\"? נסו להבין, כמה עמודות של נתונים יש בקובץ?\n",
    "<br>\n",
    "    \n",
    "<div dir=\"rtl\">\n",
    "    \n",
    "3.\tלפי גוש הטקסט בתחילת הקובץ, באיזו שורה מופיעים השמות של עמודות הנתונים  (חשבו, מה סביר שיהיו השמות של עמודות הנתונים)?\n",
    "<br>\n",
    "    \n"
   ]
  },
  {
   "cell_type": "markdown",
   "metadata": {
    "id": "etocO1dt2MCQ"
   },
   "source": [
    "\n",
    "<div dir=\"rtl\">\n",
    "לשם נוחיות גם זמין ישירות ממקור נוסף בקישור ששמור לתוך המשתנה \"filename\".\n",
    "</br>\n",
    "    \n",
    "4.\tכתבו את הפקודה\n",
    "</div>\n",
    "\n",
    "```python\n",
    "t, ch1, ch2 = np.loadtxt(filename,\n",
    "                        delimiter=',',\n",
    "                        skiprows=46,\n",
    "                        usecols=[1, 2, 3]).T\n",
    "```\n",
    "<div dir=\"rtl\">\n",
    "והריצו אותה.\n",
    "<div dir=\"rtl\">\n",
    "הסבר לפרמטרים:\n",
    "    \n",
    "*\t`filename` - קובץ עם נתונים\n",
    "* `delimiter` - פסיק לCSV קובץ\n",
    "* `skiprows` - מאיזו שורה להתחיל קריאה\n",
    "* `usecols` - מאילו עמודות לקחת נתונים\n",
    "* אופרטור\n",
    "['.T'](https://numpy.org/doc/stable/reference/generated/numpy.ndarray.T.html)\n",
    "עושה טרנספוזיציה (שחלוף) של מטריצה.\n",
    "* `t`, `ch1`, `ch2` - שמות של וקטורים\n"
   ]
  },
  {
   "cell_type": "code",
   "execution_count": null,
   "metadata": {
    "id": "tXlbW7S2jnwm"
   },
   "outputs": [],
   "source": [
    "# place your code here\n",
    "filename = 'https://raw.githubusercontent.com/tphlabs/data/main/Lab2_python_workshop/Trace.csv'\n",
    "t, ch1, ch2 = np.loadtxt(filename,\n",
    "                         delimiter=',',\n",
    "                         skiprows=46,\n",
    "                         usecols=[1, 2, 3]).T"
   ]
  },
  {
   "cell_type": "markdown",
   "metadata": {
    "id": "EdFww92si59c"
   },
   "source": [
    "<div dir=\"rtl\">\n",
    "\n",
    "5.\tמה ה``type`` של ``t``? באם זה לא ndarray (כי בחרתם להשתמש בפונקצייה אחרת לייבוא) תצטרכו להפוך את המשתנים לnp.array\n",
    "6.\tבדקו שקיבלתם את הערכים הנכונים ושהם מתאימים לנתונים שמופיעים בקובץ ``csv`` שמופיע בקישור.\n",
    "\n",
    "<div dir=\"rtl\">\n",
    "וזהו, ככה טוענים נתונים מקובץ -\n",
    "שורת קוד אחת."
   ]
  },
  {
   "cell_type": "markdown",
   "metadata": {
    "id": "bE3CZ-aQk3bM"
   },
   "source": [
    "<div dir=\"rtl\">\n",
    "\n",
    "## 5.\tהצגת נתונים בגרף (3 סעיפים ליצירת גרף) <a name=\"g5\"></a>"
   ]
  },
  {
   "cell_type": "markdown",
   "metadata": {
    "id": "o3Yf1n9Sk_BF"
   },
   "source": [
    "<div dir=\"rtl\">\n",
    "נפנה לשם כך לספרית\n",
    "``matplotlib.pyplot``\n",
    "הידועה בכינוייה\n",
    "``plt``.\n",
    "כל הפונקציות הקשורות לציור ועיצוב גרף נמצאות ב-\n",
    "``plt``.\n",
    "הצורה הכללית להכין גרף היא:\n",
    "</div>\n",
    "\n",
    "```python\n",
    "fig = plt.figure() \n",
    "plt.plot(t, ch1, 'b.', label = 'Channel 1')\n",
    "plt.plot(t, ch2, 'ro', label = 'Channel 2')\n",
    "\n",
    "plt.legend()\n",
    "plt.grid()\n",
    "plt.xlabel('label of x-axis')\n",
    "plt.ylabel('label of y-axis')\n",
    "```\n",
    "<div dir=\"rtl\">\n",
    "\n",
    "* ``()plt.figure`` יוצר את התיבה בה השורות הבאות יצויירו. גם בלי השורה הזו אפשר ליצור גרף, אבל בשביל לקבל אובייקט מפורש שאפשר להתייחס אליו בהמשך - נרצה לקבע שם מפורש לfigure.\n",
    "*\t``()plt.plot`` מציירת את העקומים. צריך לתת לה וקטור של x ווקטור של y. לאחר מכן אפשר לפרט איך לצייר את הנתונים (למשל, בעיגולים אדומים – ``‘ro’``) ולציין את השם של הנתונים בפרמטר ``label``.\n",
    "*\tלאחר שפירטתם את השמות של הנתונים בפרמטר ``label`` של פקודת ה-``plot``, הפקודה ``()plt.legend`` מוסיפה לגרף מקרא או מעדכנת אותו.\n",
    "*\t``grid``, ``xlabel``, ``ylabel`` חייבים להופיע בכל גרף שאתם מציירים במעבדה!\n"
   ]
  },
  {
   "cell_type": "markdown",
   "metadata": {
    "id": "rPeNCPSplqka"
   },
   "source": [
    "<div dir=\"rtl\">\n",
    "\n",
    "1.\tצרו גרף\n",
    "`fig1`\n",
    "וציירו עליו את הנתונים\n",
    "`times`\n",
    "ו-`distances`\n",
    "שהזנתם/חישבתם בתחילת התרגיל.\n"
   ]
  },
  {
   "cell_type": "code",
   "execution_count": null,
   "metadata": {
    "id": "KthSH6xy2MCS"
   },
   "outputs": [],
   "source": [
    "# place your code here"
   ]
  },
  {
   "cell_type": "markdown",
   "metadata": {
    "id": "uxdh9uhk2MCS"
   },
   "source": [
    "<div dir=\"rtl\">\n",
    "    \n",
    "2.\tצרו גרף\n",
    "`fig2`\n",
    "וציירו עליו את\n",
    "`ch1` ואת\n",
    "`ch2`\n",
    "כתלות ב-\n",
    "`t`\n",
    "(שני עקומים).\n",
    " כותרת ציר\n",
    " `x`\n",
    " צריכה להיות\n",
    " `time [sec]`\n",
    " וכותרת ציר\n",
    " `y`\n",
    "  צריכה להיות\n",
    "  `voltage [V]`.\n",
    "3.\tבשורות קוד מתחת\n",
    "(כדי לתרגל את\n",
    "`plt.figure(fig1)`,\n",
    "הוסיפו לגרף\n",
    "`fig1`\n",
    " עקום תיאורטי (בעזרת\n",
    " `theoretical_t`\n",
    " שכבר הכנתם). עדכנו את המקרא.\n",
    "\n",
    "<div dir=\"rtl\">\n",
    "אופציות העיצוב של גרפים הן כמובן אינסופיות – נרחיב על כך בהמשך (בעוד ~4 שבועות). לנקודת הזמן הזו, זה סוג הגרפים שאתם צריכים לדעת לייצר."
   ]
  },
  {
   "cell_type": "code",
   "execution_count": null,
   "metadata": {
    "id": "eUAIrqHsNIpG"
   },
   "outputs": [],
   "source": [
    "# place your code here"
   ]
  },
  {
   "cell_type": "markdown",
   "metadata": {
    "id": "B_-gt8vkmJPK"
   },
   "source": [
    "<div dir=\"rtl\">\n",
    "\n",
    "## 6.\tביצוע רגרסיה לינארית (18 סעיפים לכלי שימושי) <a name=\"g6\"></a>\n",
    "\n",
    "<div dir=\"rtl\">\n",
    "רגרסיה לינארית היא השם של האלגוריתם שמקבל אוסף של נקודות\n",
    "(כלומר, וקטור\n",
    "`x`\n",
    "ווקטור\n",
    "`y`)\n",
    "ומחשב את הקו הישר שעובר הכי קרוב אל הנקודות. הרגרסיה מחזירה את השיפוע\n",
    "(slope)\n",
    "ואת האיבר החופשי\n",
    "(intercept)\n",
    "של הקו הישר. כמו כן, היא מחזירה מקדם שנקרא\n",
    "`rvalue`\n",
    " שמכמת עד כמה הנקודות \"רחוקות\" מהקו.\n",
    "<div dir=\"rtl\">\n",
    "כש-\n",
    " `rvalue = 1`\n",
    " הנקודות נמצאות ממש על הקו. אם הן נמצאות לידו, אז הערך של\n",
    " `rvalue`\n",
    "  קטן יותר.\n",
    "<div dir=\"rtl\">\n",
    "רגרסיה לינארית היא כלי מאוד שימושי ואתם תשתמשו בה לעיתים קרובות במעבדה.\n",
    "\n"
   ]
  },
  {
   "cell_type": "markdown",
   "metadata": {
    "id": "iJJTLgExmju3"
   },
   "source": [
    "<div dir=\"rtl\">\n",
    "\n",
    "1.\tהכינו וקטור בשם\n",
    "`xs`\n",
    " שמכיל 40 ערכים בין $0$ ל-\n",
    " $2\\pi$\n",
    "  (חשבו, באיזו ספרייה יהיה שמור הערך של\n",
    "  $\\pi$?).\n",
    "2.\tהכינו וקטור בשם\n",
    "`ys`\n",
    "ששווה\n",
    "$3 * \\text{xs} - 0.2$.\n",
    "3.\tתקראו\n",
    "[linregress](https://docs.scipy.org/doc/scipy/reference/generated/scipy.stats.linregress.html)\n",
    "(זו הפונקציה שייבאתם בתחילת הקוד שלכם) והסתכלו על הפלט.\n",
    "4.\tמצאו דוגמה לשימוש בפונקציה והעתיקו אותה אל הקוד שלכם. את זאת שנראית לכם הכי פשוטה.\n",
    "5.\tחפשו בתיעוד של מה שהפונקציה מחזירה\n",
    "(Returns)\n",
    "ומצאו כיצד אפשר לקבל גם את השגיאה ב\n",
    "`slope`\n",
    "ואת השגיאה ב-\n",
    "`intercept`.\n",
    "6.\tבצעו רגרסיה לינארית על\n",
    "`xs`,`ys`.\n",
    "7.\tחלצו מתוך הפלט של linregress והדפיסו את הערכים של\n",
    "`slope`, `stderr`, `intercept`, `intercept_stderr`, `rvalue`.\n",
    "8.\tהאם הרגרסיה מצאה את המקדמים הנכונים של הקו הישר? מה השגיאה שהיא העריכה לכל אחד מהם? מהו ה-\n",
    "`rvalue`?\n",
    "9.\tצרו וקטור חדש\n",
    "`ys2`\n",
    "שווה\n",
    "$2 * \\text{xs} + 1$.\n",
    "10.\tהפכו את האיבר ה-13 לערך של 30.\n",
    "11.\tבצעו רגרסיה לינארית נוספת, על\n",
    "`xs`, `ys2`.\n",
    ", ושמרו את המקדמים במשתנים חדשים. האם הרגרסיה הצליחה למצוא את המקדמים?<br>\n",
    "בואו נראה זאת בגרף:\n",
    "12.\tצרו\n",
    "`fig3` –\n",
    "figure חדש.\n",
    "13.\tציירו את\n",
    "`xs`, `ys`\n",
    "בתור\n",
    "`plot 1`,\n",
    " כנקודות שחורות.\n",
    "14.\tציירו את\n",
    "`xs`, `ys2`\n",
    "בתור `plot 2`,\n",
    "כנקודות כחולות.\n",
    "15.\tציירו את עקום הרגרסיה הראשונה בעזרת:\n",
    "</div>\n",
    "\n",
    "```python\n",
    "plt.plot(xs, slope*xs + intercept, 'r-', label='regression 1')\n",
    "```\n",
    "\n",
    "<div dir=\"rtl\">\n",
    "\n",
    "16.\tציירו את עקום הרגרסיה השנייה באופן דומה, אבל בצבע תכלת\n",
    "cyan.\n",
    "17.\tאל תשכחו להוסיף מקרא,\n",
    "`grid`\n",
    " וכותרות לצירים!\n",
    "18.\tהתבוננו בגרף. מסקנתכם?\n",
    "\n",
    "<div dir=\"rtl\">\n",
    "המסקנה שהייתם אמורים להסיק:\n",
    "רגרסיה היא כלי נהדר, אבל תמיד צריך לראות שאין טעויות בנתונים כשמשתמשים בה – ולכן צריך לצייר אותם\n"
   ]
  },
  {
   "cell_type": "code",
   "execution_count": null,
   "metadata": {
    "id": "YZTp7TThzXqH"
   },
   "outputs": [],
   "source": [
    "# place your code here\n"
   ]
  },
  {
   "cell_type": "markdown",
   "metadata": {
    "id": "e72QHg5ONZcV"
   },
   "source": [
    "<div dir=\"rtl\">\n",
    "\n",
    "## 7. ביצוע אינטגרציה לווקטור נתונים (2 סעיפי ביצוע אחרונים) <a name=\"g7\"></a>\n",
    "</br>\n",
    "<div dir=\"rtl\">\n",
    "למה ללמוד דווקא איך לבצע אינטגרציה? כי מצד אחד זה לא טריוויאלי (ראו הרצאות באינפי) ומצד שני אתם תצטרכו לבצע זאת על נתוני המעבדה."
   ]
  },
  {
   "cell_type": "markdown",
   "metadata": {
    "id": "lo_t_dQR-WsH"
   },
   "source": [
    "<div dir=\"rtl\">\n",
    "אנחנו נבצע אינטגרציה בעזרת הפקודה\n",
    "    \n",
    "`scipy.integrate.cumtrapz(my_y_vector, x=my_x_vector, initial=0)`\n",
    "\n",
    "<div dir=\"rtl\">\n",
    "כלומר בשיטת\n",
    "`cumtrapz`,\n",
    "קיצור של\n",
    "cumulative integral using the trapezoidal method.\n",
    "בשיטה זו מעבירים קו ישר בין הנקודות השכנות ומחשבים את שטח הטרפז הנוצר מתחת לקו. סכימה של הטרפזים נותנת קירוב נומרי של האינטגרל.\n",
    "\n",
    "<div dir=\"rtl\">\n",
    "Cumulative\n",
    "משמעו \"מצטבר\" – הפונקציה מחזירה וקטור של ערכים ולא ערך בודד. כלומר, היא מחשבת קירוב של האינטגרל הלא-מסוים, הפונקציה הקדומה.\n"
   ]
  },
  {
   "cell_type": "markdown",
   "metadata": {
    "id": "PcYso40q-3Cr"
   },
   "source": [
    "<div dir=\"rtl\">\n",
    "\n",
    "1.\t**כתבו** והריצו את הפקודה\n",
    "</div>\n",
    "\n",
    "```python\n",
    "integral = scipy.integrate.cumtrapz(ys, x=xs, initial=0)\n",
    "```\n",
    "<div dir=\"rtl\">\n",
    "הסבר:\n",
    "    \n",
    "*\tכדי לבצע אינטגרציה, מספיק להעביר רק ערכי\n",
    "`y`,\n",
    " ואז האלגוריתם מניח שערכי\n",
    "`x`\n",
    "הם 1,2,3… וכו'.\n",
    "*\tאם\n",
    "`x`\n",
    " לא שווה 1,2,3... אז אפשר להעביר אותו כפרמטר לפונקציה, תחת השם\n",
    "`x`.\n",
    " במקרה זה העברנו אליו את\n",
    "`xs`.\n",
    "*\tבלי לציין\n",
    "`initial = 0`,\n",
    "וקטור האינטגרל יהיה קצר באיבר אחד מווקטור ה-\n",
    "`y`,\n",
    "שזה הגיוני אם חושבים על שיטת האינטגרציה אבל גם יכול להפריע לצייר את האינטגרל בגרף. לכן\n",
    "`initial = 0`\n",
    "מגדיר לאלגוריתם להוסיף את הערך\n",
    "`0`\n",
    " בתור האיבר הראשון של האינטגרל.\n",
    "\n",
    "2.\t**ציירו** בגרף חדש\n",
    "(`fig4`)\n",
    "את האינטגרל של\n",
    "`ys`\n",
    "ושל\n",
    "`ys2`.\n",
    "(לפי הכללים בבקשה. סומכים עליכם)\n",
    "\n",
    "<div dir=\"rtl\">\n",
    "התבוננו בגרף ותסכימו איתנו שוב כמה חשוב לוודא שאין טעיות בנתונים לפני שמתחילים לבצע עליהם חישובים מסובכים...\n"
   ]
  },
  {
   "cell_type": "code",
   "execution_count": null,
   "metadata": {
    "id": "CMcv6srTwxeJ"
   },
   "outputs": [],
   "source": [
    "# place your code here"
   ]
  },
  {
   "cell_type": "markdown",
   "metadata": {
    "id": "kisMDpTBAO-i"
   },
   "source": [
    "<div dir=\"rtl\">\n",
    "\n",
    "# סיכום  <a name=\"sikum\"></a>\n",
    "\n",
    "</br>\n",
    "<div dir=\"rtl\">  \n",
    "<b>סיימנו</b>\n",
    "\n",
    "<div dir=\"rtl\">\n",
    "<b>שמרו</b> את הקוד שכתבתם. מוזמנים לסכם לעצמכם איך עושים כל אחד מהדברים שלמדנו (להעתיק מתוך הקוד שכתבתם):"
   ]
  },
  {
   "cell_type": "markdown",
   "metadata": {
    "id": "ZY1RbObYA1HB"
   },
   "source": [
    "<div dir=\"rtl\">\n",
    "\n",
    "1.\tכתיבת וקטור נתונים"
   ]
  },
  {
   "cell_type": "code",
   "execution_count": null,
   "metadata": {
    "id": "vW1e6-0bAUYR"
   },
   "outputs": [],
   "source": [
    "# איך עושים\n"
   ]
  },
  {
   "cell_type": "markdown",
   "metadata": {
    "id": "K4klfE4PA5fJ"
   },
   "source": [
    "<div dir=\"rtl\">\n",
    "\n",
    "2.\tביצוע חישוב על וקטורי נתונים (כתיבת פונקציה)"
   ]
  },
  {
   "cell_type": "code",
   "execution_count": null,
   "metadata": {
    "id": "cjCknGj6A8Ug"
   },
   "outputs": [],
   "source": [
    "# איך עושים\n"
   ]
  },
  {
   "cell_type": "markdown",
   "metadata": {
    "id": "gKd2bI58BDXX"
   },
   "source": [
    "<div dir=\"rtl\">\n",
    "\n",
    "3.\tחישוב עקום תיאורטי"
   ]
  },
  {
   "cell_type": "code",
   "execution_count": null,
   "metadata": {
    "id": "xt-K8EhMBF5o"
   },
   "outputs": [],
   "source": [
    "# איך עושים\n"
   ]
  },
  {
   "cell_type": "markdown",
   "metadata": {
    "id": "FHmm4ibaBIGB"
   },
   "source": [
    "<div dir=\"rtl\">\n",
    "\n",
    "4.\tטעינת נתונים מקובץ"
   ]
  },
  {
   "cell_type": "code",
   "execution_count": null,
   "metadata": {
    "id": "aBspfJ2FBX5B"
   },
   "outputs": [],
   "source": [
    "# איך עושים\n"
   ]
  },
  {
   "cell_type": "markdown",
   "metadata": {
    "id": "od8INutTCbbr"
   },
   "source": [
    "<div dir=\"rtl\">\n",
    "\n",
    "5.\tהצגת נתונים בגרף"
   ]
  },
  {
   "cell_type": "code",
   "execution_count": null,
   "metadata": {
    "id": "pSI5yGMYCfe7"
   },
   "outputs": [],
   "source": [
    "# איך עושים\n"
   ]
  },
  {
   "cell_type": "markdown",
   "metadata": {
    "id": "j-sgH7Q_Chq7"
   },
   "source": [
    "<div dir=\"rtl\">\n",
    "\n",
    "6.\tביצוע רגרסיה לינארית"
   ]
  },
  {
   "cell_type": "code",
   "execution_count": null,
   "metadata": {
    "id": "tI8OWdEICmeZ"
   },
   "outputs": [],
   "source": [
    "# איך עושים\n"
   ]
  },
  {
   "cell_type": "markdown",
   "metadata": {
    "id": "Jd-0AWqqCrRQ"
   },
   "source": [
    "<div dir=\"rtl\">\n",
    "\n",
    "7.\tביצוע אינטגרציה לווקטור נתונים"
   ]
  },
  {
   "cell_type": "code",
   "execution_count": null,
   "metadata": {
    "id": "TKXmwUW7CsHk"
   },
   "outputs": [],
   "source": [
    "# איך עושים\n"
   ]
  }
 ],
 "metadata": {
  "colab": {
   "provenance": []
  },
  "kernelspec": {
   "display_name": "Python 3 (ipykernel)",
   "language": "python",
   "name": "python3"
  },
  "language_info": {
   "codemirror_mode": {
    "name": "ipython",
    "version": 3
   },
   "file_extension": ".py",
   "mimetype": "text/x-python",
   "name": "python",
   "nbconvert_exporter": "python",
   "pygments_lexer": "ipython3",
   "version": "3.9.13"
  }
 },
 "nbformat": 4,
 "nbformat_minor": 1
}

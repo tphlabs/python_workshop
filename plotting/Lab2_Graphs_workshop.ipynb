{
  "nbformat": 4,
  "nbformat_minor": 0,
  "metadata": {
    "colab": {
      "provenance": [],
      "authorship_tag": "ABX9TyOAX7fEj/sXx0TgASKi7Tm1",
      "include_colab_link": true
    },
    "kernelspec": {
      "name": "python3",
      "display_name": "Python 3"
    },
    "language_info": {
      "name": "python"
    }
  },
  "cells": [
    {
      "cell_type": "markdown",
      "metadata": {
        "id": "view-in-github",
        "colab_type": "text"
      },
      "source": [
        "<a href=\"https://colab.research.google.com/github/tphlabs/python_workshop/blob/main/plotting/Lab2_Graphs_workshop.ipynb\" target=\"_parent\"><img src=\"https://colab.research.google.com/assets/colab-badge.svg\" alt=\"Open In Colab\"/></a>"
      ]
    },
    {
      "cell_type": "markdown",
      "source": [
        "# Lab 2 Scientific Graph Workshop\n",
        "\n",
        "2024 Evgeny Kolonsky\n",
        "\n",
        "Inspired by Yulia Preezant, Gil Ben-Ari"
      ],
      "metadata": {
        "id": "lGiSB2LyumLE"
      }
    },
    {
      "cell_type": "markdown",
      "source": [
        "# Intro"
      ],
      "metadata": {
        "id": "l52QCHqdRzTz"
      }
    },
    {
      "cell_type": "markdown",
      "source": [
        "Nice graph. What is wrong with it?\n",
        "\n",
        "<figure>\n",
        "<center>\n",
        "<img src='https://raw.githubusercontent.com/tphlabs/python_workshop/main/plotting/OneGraph.jpg' width=300 />\n",
        "<figcaption>Figure. All Theories Proven With One Graph by Don Grace of Florence, Alabama. The Journal of Irreproducible Results <a  href=\"https://web.archive.org/web/20190828132504/http://jir.com/graph_contest/index.html#MoreGraphs\">JIR archive</a> </figcaption></center>\n",
        "</figure>"
      ],
      "metadata": {
        "id": "arizzeoAQrVY"
      }
    },
    {
      "cell_type": "markdown",
      "source": [
        "# Scientific Graphing Principles\n",
        "\n",
        "1. Identify your message\n",
        "2. Do not mislead the reader\n",
        "3. Use appropriate tools\n",
        "4. Captions are not optional\n",
        "\n",
        "Source: *Ten Simple Rules* (Rougier et al, 2014)"
      ],
      "metadata": {
        "id": "TlI6sIs4R1GO"
      }
    },
    {
      "cell_type": "markdown",
      "source": [
        "# Laboratory Graphing Standard\n",
        "\n",
        "1. The graph should be readable **message** both in visual and textual form.\n",
        "2. A **caption** (explanation)  of the graph is necessary. The explanation is found immediately after the graph, and its purpose is to tell the reader in words what the graph presents.\n",
        "3. The **measured data** is presented as discrete points, without connections. **Error bars** are mandatory. If the error is smaller than the measurement marker itself, this should be explicitly stated in the graph's caption.\n",
        "4. The **theoretical model** should be presented as a continuous curve.\n",
        "5. **Axis** should have labels and physical units. Ticks and grid should be presented to help the reader navigate graph.\n",
        "6. **Legend** should be used in cases where there is more than one type of notation on the same graph.\n",
        "7. Graph should be **numbered** for referencing.\n",
        "7. Do not add a title to the graph, because there is a caption below."
      ],
      "metadata": {
        "id": "4uL7g2iSSUPO"
      }
    },
    {
      "cell_type": "markdown",
      "source": [
        "# 1. Figure anatomy\n",
        "\n",
        "[Source](https://github.com/tphlabs/python_workshop/blob/main/Figure_anatomy.ipynb) on code on `github.com/tphlabs/python_workshop`."
      ],
      "metadata": {
        "id": "uqIr-TAndNEn"
      }
    },
    {
      "cell_type": "markdown",
      "source": [
        "<figure>\n",
        "<center>\n",
        "<img src='https://raw.githubusercontent.com/tphlabs/python_workshop/main/plotting/figanatomy.jpg' width=300 />\n",
        "<figcaption>Figure 1. Basic terms and components of a figure in `matplotlib` package: Figure, Axis, Ticks, Lines, Markers, Legend, Spines. Code courtesy of matplotlib slightly simplified.</figcaption></center>\n",
        "</figure>"
      ],
      "metadata": {
        "id": "fnztYUJYxMe5"
      }
    },
    {
      "cell_type": "markdown",
      "source": [
        "# 2. DC Practice. Voltage divider\n",
        "\n",
        "\n"
      ],
      "metadata": {
        "id": "cxRQuj0w18Hl"
      }
    },
    {
      "cell_type": "markdown",
      "source": [
        "The Voltage divider practice is about comparison between theoretical divider ratio and results measured.\n",
        "\n",
        "| scheme | formula|\n",
        "|:-:  | :-:  |\n",
        "| <img src=\"https://raw.githubusercontent.com/tphlabs/data/main/Lab2_python_workshop/DC2-5.png\" width=\"150\" > | $$V_{out} = V_{in} \\frac{R_2}{R_1 + R_2}$$|\n"
      ],
      "metadata": {
        "id": "WykWCAywAJOv"
      }
    },
    {
      "cell_type": "markdown",
      "source": [
        "A student has made measurements and plotted them. What can be understood from the figure?\n"
      ],
      "metadata": {
        "id": "FFuyeI4U_Srq"
      }
    },
    {
      "cell_type": "markdown",
      "source": [
        "<figure>\n",
        "<center>\n",
        "<img src='https://raw.githubusercontent.com/tphlabs/python_workshop/main/plotting/dc2/DC2_student_report.png' width=400 />\n",
        "<figcaption>Figure 2.1 Student plotted measurements and and shown that they are pretty linear, but did not illustrate a visual comparison with expected divider ratio.</figcaption></center>\n",
        "</figure>"
      ],
      "metadata": {
        "id": "GAZ-mXHUTY9o"
      }
    },
    {
      "cell_type": "markdown",
      "source": [
        "Here is improved figure with comparison of expected and observed divider ratio.\n",
        "\n",
        "[Source](https://github.com/tphlabs/python_workshop/blob/main/plotting/dc2/DC2practice.ipynb) on code on `github.com/tphlabs/python_workshop`."
      ],
      "metadata": {
        "id": "s1KXFQLiPk1P"
      }
    },
    {
      "cell_type": "markdown",
      "source": [
        "<figure>\n",
        "<center>\n",
        "<img src='https://raw.githubusercontent.com/tphlabs/python_workshop/main/plotting/dc2/DC2practice.jpg'/>\n",
        "<figcaption>Figure 2.2 Graph with equal scaled axes and expected divider line immediately illustrates correspondence between observed data and expectations</figcaption></center>\n",
        "</figure>"
      ],
      "metadata": {
        "id": "pMCws5lDRM35"
      }
    },
    {
      "cell_type": "markdown",
      "source": [
        "# 3. Capacitor experiment"
      ],
      "metadata": {
        "id": "CqWU65hXb4LV"
      }
    },
    {
      "cell_type": "markdown",
      "source": [
        "<figure>\n",
        "<center>\n",
        "<img src='https://raw.githubusercontent.com/tphlabs/python_workshop/main/plotting/c/Cdischarge_studentreport.png' width=500 />\n",
        "<figcaption>Figure 3.1  This is a plot from the student's report.</figcaption></center>\n",
        "</figure>"
      ],
      "metadata": {
        "id": "Mj3YP2CFcBUs"
      }
    },
    {
      "cell_type": "markdown",
      "source": [
        "First, let's show what part of raw data we are taking for further analysis.\n",
        "\n",
        "[Source](https://github.com/tphlabs/python_workshop/blob/main/plotting/c/Cpractice.ipynb) on code on `github.com/tphlabs/python_workshop`."
      ],
      "metadata": {
        "id": "67ixIbf9cpbH"
      }
    },
    {
      "cell_type": "markdown",
      "source": [
        "<figure>\n",
        "<center>\n",
        "<img src='https://raw.githubusercontent.com/tphlabs/python_workshop/main/plotting/c/Cdischarge.png'/>\n",
        "<figcaption>Figure 3.2. Let's cut off non-informative points from raw data signal</figcaption></center>\n",
        "</figure>"
      ],
      "metadata": {
        "id": "QSEVVVOudBjH"
      }
    },
    {
      "cell_type": "markdown",
      "source": [
        "<figure>\n",
        "<center>\n",
        "<img src='https://raw.githubusercontent.com/tphlabs/python_workshop/main/plotting/c/Cdischargefit.png'/>\n",
        "<figcaption>Figure 3.3. Discharge signal can be fitted with exponential model and checked for sanity on graph</figcaption></center>\n",
        "</figure>"
      ],
      "metadata": {
        "id": "PydXyyNWdu0L"
      }
    },
    {
      "cell_type": "code",
      "source": [],
      "metadata": {
        "id": "3sZSLwFVhbUk"
      },
      "execution_count": null,
      "outputs": []
    },
    {
      "cell_type": "code",
      "source": [],
      "metadata": {
        "id": "1jikb3LEueaK"
      },
      "execution_count": null,
      "outputs": []
    }
  ]
}
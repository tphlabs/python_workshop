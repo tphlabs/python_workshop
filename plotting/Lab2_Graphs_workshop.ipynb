{
  "nbformat": 4,
  "nbformat_minor": 0,
  "metadata": {
    "colab": {
      "provenance": [],
      "authorship_tag": "ABX9TyOwr8dGNbCbdwGYsGRSG13G",
      "include_colab_link": true
    },
    "kernelspec": {
      "name": "python3",
      "display_name": "Python 3"
    },
    "language_info": {
      "name": "python"
    }
  },
  "cells": [
    {
      "cell_type": "markdown",
      "metadata": {
        "id": "view-in-github",
        "colab_type": "text"
      },
      "source": [
        "<a href=\"https://colab.research.google.com/github/tphlabs/python_workshop/blob/main/plotting/Lab2_Graphs_workshop.ipynb\" target=\"_parent\"><img src=\"https://colab.research.google.com/assets/colab-badge.svg\" alt=\"Open In Colab\"/></a>"
      ]
    },
    {
      "cell_type": "markdown",
      "source": [
        "# Lab 2 Scientific Graph Workshop\n",
        "\n",
        "2024 Evgeny Kolonsky\n",
        "\n",
        "Inspired by <br>\n",
        "Yulia Preezant גרפים מדעים. איך לבנות. איך בדוק לציון <br>\n",
        "Gil Ben-Ari סדנת פייתון – עיצוב גרפים"
      ],
      "metadata": {
        "id": "lGiSB2LyumLE"
      }
    },
    {
      "cell_type": "markdown",
      "source": [
        "# Intro"
      ],
      "metadata": {
        "id": "l52QCHqdRzTz"
      }
    },
    {
      "cell_type": "markdown",
      "source": [
        "Nice graph. What is wrong with it?\n",
        "\n",
        "<figure>\n",
        "<center>\n",
        "<img src='https://raw.githubusercontent.com/tphlabs/python_workshop/main/plotting/OneGraph.jpg' width=400 />\n",
        "<figcaption>Figure. All Theories Proven With One Graph by Don Grace of Florence, Alabama. The Journal of Irreproducible Results <a  href=\"https://web.archive.org/web/20190828132504/http://jir.com/graph_contest/index.html#MoreGraphs\">JIR archive</a> </figcaption></center>\n",
        "</figure>"
      ],
      "metadata": {
        "id": "arizzeoAQrVY"
      }
    },
    {
      "cell_type": "markdown",
      "source": [
        "# Scientific Graphing Principles\n",
        "\n",
        "1. Identify your message\n",
        "2. Do not mislead the reader\n",
        "3. Use appropriate tools\n",
        "4. Captions are not optional\n",
        "\n",
        "Source: *Ten Simple Rules* (Rougier et al, 2014)"
      ],
      "metadata": {
        "id": "TlI6sIs4R1GO"
      }
    },
    {
      "cell_type": "markdown",
      "source": [
        "# Laboratory Graphing Standard\n",
        "\n",
        "1. The graph should be readable **message** both in visual and textual form.\n",
        "2. A **caption** (explanation)  of the graph is necessary. The explanation is found immediately after the graph, and its purpose is to tell the reader in words what the graph presents.\n",
        "3. The **measured data** is presented as discrete points, without connections. **Error bars** are mandatory. If the error is smaller than the measurement marker itself, this should be explicitly stated in the graph's caption.\n",
        "4. The **theoretical model** should be presented as a continuous curve.\n",
        "5. **Axis** should have labels and physical units. Ticks and grid should be presented to help the reader navigate graph.\n",
        "6. **Legend** should be used in cases where there is more than one type of notation on the same graph.\n",
        "7. Graph should be **numbered** for referencing.\n",
        "7. Do not add a title to the graph, because there is a caption below."
      ],
      "metadata": {
        "id": "4uL7g2iSSUPO"
      }
    },
    {
      "cell_type": "markdown",
      "source": [
        "# Caption\n",
        "\n",
        "The example of good caption:\n",
        "\n",
        "> A plateau graph of the Geiger-Muller detector are telling us about the relationship between the number of registered events and the operating voltage setting. We see a **relatively flat region** in the center of the plot, we call it the plateau. The detector manufacturer recommends to set the operation  voltage in the **middle of the plateau**."
      ],
      "metadata": {
        "id": "PU_uOaf9VrHL"
      }
    },
    {
      "cell_type": "markdown",
      "source": [
        "<figure>\n",
        "<center>\n",
        "<img src='https://raw.githubusercontent.com/tphlabs/python_workshop/main/plotting/GMcounter.png' width=600 />\n",
        "<figcaption>Figure source: The Geiger-Mueller Counter. Circular 490. US national Buerau of Standards, 1950. <a  href=\"https://nvlpubs.nist.gov/nistpubs/Legacy/circ/nbscircular490.pdf\">.pdf</a> </figcaption></center>\n",
        "</figure>"
      ],
      "metadata": {
        "id": "uNigJQZlV8Im"
      }
    },
    {
      "cell_type": "markdown",
      "source": [
        "# Python plotting tool: `matplotlib`\n",
        "\n",
        "In laboratory 2 we use Python module [`matplotlib.pyplot`](https://matplotlib.org/3.5.3/api/_as_gen/matplotlib.pyplot.html) for basic plotting.\n",
        "\n",
        "There are also other plotting packages, such as\n",
        "* [`seaborn`](https://joss.theoj.org/papers/10.21105/joss.03021) by Michael Wascom for statistical data visualization and\n",
        "* [`altair`](https://joss.theoj.org/papers/10.21105/joss.01057) by Jacob VanderPlas et al. for interactive plotting\n",
        "\n",
        "to name a few."
      ],
      "metadata": {
        "id": "NBlQXkrWVibg"
      }
    },
    {
      "cell_type": "markdown",
      "source": [
        "# Practice"
      ],
      "metadata": {
        "id": "qMTsvPGMZdVW"
      }
    },
    {
      "cell_type": "markdown",
      "source": [
        "## 1. DC Voltage divider experiment\n",
        "\n",
        "\n"
      ],
      "metadata": {
        "id": "cxRQuj0w18Hl"
      }
    },
    {
      "cell_type": "markdown",
      "source": [
        "The Voltage divider practice is about comparison between theoretical divider ratio and results measured.\n",
        "\n",
        "| scheme | formula|\n",
        "|:-:  | :-:  |\n",
        "| <img src=\"https://raw.githubusercontent.com/tphlabs/data/main/Lab2_python_workshop/DC2-5.png\" width=\"150\" > | $$V_{out} = V_{in} \\frac{R_2}{R_1 + R_2}$$|\n"
      ],
      "metadata": {
        "id": "WykWCAywAJOv"
      }
    },
    {
      "cell_type": "markdown",
      "source": [
        "A student has made measurements and plotted them. What can be understood from the figure?\n"
      ],
      "metadata": {
        "id": "FFuyeI4U_Srq"
      }
    },
    {
      "cell_type": "markdown",
      "source": [
        "<figure>\n",
        "<center>\n",
        "<img src='https://raw.githubusercontent.com/tphlabs/python_workshop/main/plotting/dc2/DC2_student_report.png' width=400 />\n",
        "<figcaption>Figure. Student plotted measurements and and shown that they are pretty linear, but did not illustrate a visual comparison with expected divider ratio.</figcaption></center>\n",
        "</figure>"
      ],
      "metadata": {
        "id": "GAZ-mXHUTY9o"
      }
    },
    {
      "cell_type": "markdown",
      "source": [
        "Here is improved figure with comparison of expected and observed divider ratio."
      ],
      "metadata": {
        "id": "s1KXFQLiPk1P"
      }
    },
    {
      "cell_type": "markdown",
      "source": [
        "<figure>\n",
        "<center>\n",
        "<img src='https://raw.githubusercontent.com/tphlabs/python_workshop/main/plotting/dc2/DC2practice.jpg'/>\n",
        "<figcaption>Figure 2.2 Graph with equal scaled axes and expected divider line immediately illustrates correspondence between observed data and expectations</figcaption></center>\n",
        "</figure>\n",
        "\n",
        "[Source `.ipynb`](https://github.com/tphlabs/python_workshop/blob/main/plotting/dc2/DC2practice.ipynb)"
      ],
      "metadata": {
        "id": "pMCws5lDRM35"
      }
    },
    {
      "cell_type": "markdown",
      "source": [
        "## 2. Capacitor experiment"
      ],
      "metadata": {
        "id": "CqWU65hXb4LV"
      }
    },
    {
      "cell_type": "markdown",
      "source": [
        "<figure>\n",
        "<center>\n",
        "<img src='https://raw.githubusercontent.com/tphlabs/python_workshop/main/plotting/c/Cdischarge_studentreport.png' width=500 />\n",
        "<figcaption>Figure.  This is a plot from the student's report. It is not quite clear what part of experimental data is taken and why. On this part of data linear model seems to be quite good fit, but does it cover all data? And not clear what units are on vertical axis. </figcaption></center>\n",
        "</figure>"
      ],
      "metadata": {
        "id": "Mj3YP2CFcBUs"
      }
    },
    {
      "cell_type": "markdown",
      "source": [
        "First, let's show what part of raw data we are taking for further analysis."
      ],
      "metadata": {
        "id": "67ixIbf9cpbH"
      }
    },
    {
      "cell_type": "markdown",
      "source": [
        "<figure>\n",
        "<center>\n",
        "<img src='https://raw.githubusercontent.com/tphlabs/python_workshop/main/plotting/c/Cdischarge.png'/>\n",
        "<figcaption>Figure. Let's cut off non-informative points befor discharge (about -1.0 ms on raw data time axis) and after full discharge (about -0.8 ms) from raw data signal</figcaption></center>\n",
        "</figure>"
      ],
      "metadata": {
        "id": "QSEVVVOudBjH"
      }
    },
    {
      "cell_type": "markdown",
      "source": [
        "Second, try to apply an exponential discharge model and visually compare observations with model.\n",
        "\n",
        "<figure>\n",
        "<center>\n",
        "<img src='https://raw.githubusercontent.com/tphlabs/python_workshop/main/plotting/c/Cdischargefit.png'/>\n",
        "<figcaption>Figure. Discharge signal is fitted with exponential model and checked for sanity on graph. We see, that time period of 0.20 ms we took corresponds approximately to $6\\tau$, where $\\tau = RC$ is decay constant. The student chosen data on interval 0.06 ms, which is approximately $2\\tau$, also acceptable. Having total resistance $R$ known, one can find from here the capacitor property $C$.</figcaption></center>\n",
        "</figure>\n",
        "\n",
        "[Source `.ipynb`](https://github.com/tphlabs/python_workshop/blob/main/plotting/c/Cpractice.ipynb)"
      ],
      "metadata": {
        "id": "PydXyyNWdu0L"
      }
    },
    {
      "cell_type": "code",
      "source": [],
      "metadata": {
        "id": "3sZSLwFVhbUk"
      },
      "execution_count": null,
      "outputs": []
    },
    {
      "cell_type": "code",
      "source": [],
      "metadata": {
        "id": "1jikb3LEueaK"
      },
      "execution_count": null,
      "outputs": []
    }
  ]
}
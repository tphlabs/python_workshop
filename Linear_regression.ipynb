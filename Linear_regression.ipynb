{
  "cells": [
    {
      "cell_type": "markdown",
      "metadata": {
        "id": "view-in-github",
        "colab_type": "text"
      },
      "source": [
        "<a href=\"https://colab.research.google.com/github/tphlabs/python_workshop/blob/main/Linear_regression.ipynb\" target=\"_parent\"><img src=\"https://colab.research.google.com/assets/colab-badge.svg\" alt=\"Open In Colab\"/></a>"
      ]
    },
    {
      "cell_type": "markdown",
      "source": [
        "# Linear Regression\n",
        "\n",
        "v.0.1.3\n",
        "\n",
        "Linear Regression is a fundamental statistical technique used to model the relationship between a dependent variable and one or more independent variables\n",
        "## 1. Introduction to Linear Regression\n",
        "\n",
        "Linear Regression aims to find the best-fitting linear relationship between the dependent variable (often called the response or target) and the independent variable(s) (often called predictors or features). The simplest form is Simple Linear Regression, which involves one dependent and one independent variable. Multiple Linear Regression involves one dependent and multiple independent"
      ],
      "metadata": {
        "id": "O_XrE0x7f-Pl"
      },
      "id": "O_XrE0x7f-Pl"
    },
    {
      "cell_type": "code",
      "source": [
        "import numpy as np\n",
        "import matplotlib.pyplot as plt\n",
        "import seaborn as sns\n",
        "from scipy.stats import linregress"
      ],
      "metadata": {
        "id": "N1Bt41t1WnxO"
      },
      "id": "N1Bt41t1WnxO",
      "execution_count": 18,
      "outputs": []
    },
    {
      "cell_type": "markdown",
      "source": [
        "## Example data"
      ],
      "metadata": {
        "id": "c9R7HT7jicmt"
      },
      "id": "c9R7HT7jicmt"
    },
    {
      "cell_type": "markdown",
      "source": [
        "$$\n",
        "x = (x_1, \\dots , x_n),  \\qquad y = (y_1, \\dots , y_n)\n",
        "$$\n"
      ],
      "metadata": {
        "id": "tXAYLcMapSKj"
      },
      "id": "tXAYLcMapSKj"
    },
    {
      "cell_type": "code",
      "source": [
        "x = np.array([1, 2, 3, 4, 5])  # Independent variable\n",
        "y = np.array([2, 3, 5, 7, 11])  # Dependent variable\n",
        "\n"
      ],
      "metadata": {
        "id": "_Pq-6C-7g0MK"
      },
      "id": "_Pq-6C-7g0MK",
      "execution_count": 19,
      "outputs": []
    },
    {
      "cell_type": "markdown",
      "source": [
        "## Linear fit"
      ],
      "metadata": {
        "id": "_h0BPcRsiiwr"
      },
      "id": "_h0BPcRsiiwr"
    },
    {
      "cell_type": "markdown",
      "source": [
        "$$\n",
        "Y = a x + b,\n",
        "$$\n",
        "\n",
        "where\n",
        "\n",
        "$a$ - slope, $b$ - intercept.\n",
        "\n"
      ],
      "metadata": {
        "id": "Iy9e_6bmo_MO"
      },
      "id": "Iy9e_6bmo_MO"
    },
    {
      "cell_type": "code",
      "source": [
        "fit = linregress(x, y)\n",
        "slope = fit.slope\n",
        "intercept = fit.intercept\n",
        "slope_err = fit.stderr\n",
        "intercept_err = fit.intercept_stderr\n",
        "print(f'Linear fit parameters:')\n",
        "print(f'slope    : {slope:.1f} ± {slope_err:.1f}')\n",
        "print(f'intercept: {intercept:.1f} ± {intercept_err:.1f}')\n",
        "\n"
      ],
      "metadata": {
        "colab": {
          "base_uri": "https://localhost:8080/"
        },
        "id": "bjWlixbUilIs",
        "outputId": "f26ed07a-b47d-4d54-b353-a15d13ba3c19"
      },
      "id": "bjWlixbUilIs",
      "execution_count": 20,
      "outputs": [
        {
          "output_type": "stream",
          "name": "stdout",
          "text": [
            "Linear fit parameters:\n",
            "slope    : 2.2 ± 0.3\n",
            "intercept: -1.0 ± 1.0\n"
          ]
        }
      ]
    },
    {
      "cell_type": "markdown",
      "source": [
        "## Display on plot with prediction confindence interval"
      ],
      "metadata": {
        "id": "3JqqjHTimMVC"
      },
      "id": "3JqqjHTimMVC"
    },
    {
      "cell_type": "markdown",
      "source": [
        "### Simplified, not quite correct\n",
        "Prediction\n",
        "$$\n",
        "Y = ax + b,\n",
        "ִִִִִִ$$\n",
        "Error\n",
        "$$\n",
        "\\hat\\sigma^2 \\approx \\frac{\\sum{(y_i - Y)^2}}{n-2}\n",
        "$$\n"
      ],
      "metadata": {
        "id": "NeVAiSsqtoTw"
      },
      "id": "NeVAiSsqtoTw"
    },
    {
      "cell_type": "code",
      "source": [
        "Y = x * slope + intercept\n",
        "n = len(y)\n",
        "sigma = np.sqrt(np.sum((y - Y)**2) / (n-2))\n",
        "\n",
        "y_top = Y + sigma\n",
        "y_bot = Y - sigma\n",
        "plt.fill_between(x, y_bot, y_top, color='lightgray', alpha=0.5, label=r'Fit uncertainty ')\n",
        "\n",
        "plt.scatter(x, y, label='Data points')\n",
        "\n",
        "plt.plot(x, slope * x + intercept, color='red', label='Linear fit')\n",
        "\n",
        "plt.xlabel('x')\n",
        "plt.ylabel('y')\n",
        "plt.grid('on')\n",
        "plt.legend()"
      ],
      "metadata": {
        "colab": {
          "base_uri": "https://localhost:8080/",
          "height": 467
        },
        "id": "jqe3Xpl9_xQa",
        "outputId": "aff887e7-c18c-43a3-b351-0d9675cd2e6f"
      },
      "id": "jqe3Xpl9_xQa",
      "execution_count": 21,
      "outputs": [
        {
          "output_type": "execute_result",
          "data": {
            "text/plain": [
              "<matplotlib.legend.Legend at 0x7aaf949b1d50>"
            ]
          },
          "metadata": {},
          "execution_count": 21
        },
        {
          "output_type": "display_data",
          "data": {
            "text/plain": [
              "<Figure size 640x480 with 1 Axes>"
            ],
            "image/png": "[encoded data removed]"
          },
          "metadata": {}
        }
      ]
    }
  ],
  "metadata": {
    "kernelspec": {
      "display_name": "Python 3 (ipykernel)",
      "language": "python",
      "name": "python3"
    },
    "language_info": {
      "codemirror_mode": {
        "name": "ipython",
        "version": 3
      },
      "file_extension": ".py",
      "mimetype": "text/x-python",
      "name": "python",
      "nbconvert_exporter": "python",
      "pygments_lexer": "ipython3",
      "version": "3.11.9"
    },
    "colab": {
      "provenance": [],
      "include_colab_link": true
    }
  },
  "nbformat": 4,
  "nbformat_minor": 5
}
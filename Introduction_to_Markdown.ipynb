{
 "cells": [
  {
   "cell_type": "markdown",
   "metadata": {},
   "source": [
    "# Welcome to Markdown Intro Workshop\n",
    "Credits to [Guillermo Fidalgo](https://github.com/GuillermoFidalgo), author of Google Colab notebook [Introduction to Markdown and Python](https://colab.research.google.com/github/GuillermoFidalgo/Python-for-STEM-Teachers-Workshop/blob/master/notebooks/1-Introduction_to_Markdown_and_Python.ipynb#scrollTo=v2f8IFfue1yP).\n",
    "\n",
    "Slightly shortened and adopted to Miniconda Jupyter Notebook environment by [Evgeny Kolonsky](https://github.com/evgeny-kolonsky), 2024 - 2025. v0.1.1"
   ]
  },
  {
   "cell_type": "markdown",
   "metadata": {
    "id": "AVwbC168P2Cg"
   },
   "source": [
    "---\n",
    "Notebooks are composed of two types of cells: blocks of text and blocks of code.\n",
    "\n",
    "In order too create a block of text or code in Jupyter environment press `+` icon and choose  cell type: `Markdown` or `Code`."
   ]
  },
  {
   "cell_type": "markdown",
   "metadata": {
    "id": "m_klEiqp9ewu"
   },
   "source": [
    "Here we will learn first about the tools we are going to use and how you and your students can use them.\n",
    "\n",
    "Main tools to learn are\n",
    "1. Headings\n",
    "2. Emphasis\n",
    "3. Lists\n",
    "4. Links\n",
    "5. Images\n",
    "6. Code and Syntax Highlighting\n",
    "7. Tables\n",
    "8. Horizontal Lines\n",
    "9. $\\LaTeX$ and math typesetting\n",
    " ----------------"
   ]
  },
  {
   "cell_type": "markdown",
   "metadata": {
    "id": "DJKo1bjwRnli"
   },
   "source": [
    "# Headings\n",
    "\n",
    "Headers are used to help section parts of your document and are created using a \\# symbol before the text to be used as a title for your header.\n",
    "\n",
    "\n",
    "A title header will use only one \\#.\n",
    "\n",
    " A subtitle will use two \\##.\n",
    "\n",
    "  The more \\# the lower the level of headers.\n",
    "# Header 1\n",
    "## Header 2\n",
    "### Header 3\n",
    "#### Header 4\n",
    "##### Header 5\n",
    "###### Header 6\n",
    "\n",
    "\n"
   ]
  },
  {
   "cell_type": "markdown",
   "metadata": {
    "id": "EXCanO3R8H9t"
   },
   "source": [
    "-----\n",
    "# Emphasis\n",
    "\n",
    "\n",
    "\n",
    "\n",
    "```\n",
    "Emphasis, aka italics, with *asterisks* or _underscores_.\n",
    "\n",
    "Strong emphasis, aka bold, with **asterisks** or __underscores__.\n",
    "\n",
    "Combined emphasis with **asterisks and _underscores_**.\n",
    "\n",
    "Strikethrough uses a tilde. ~Scratch this.~\n",
    "```\n",
    "\n",
    "Emphasis, aka italics, with *asterisks* or _underscores_.\n",
    "\n",
    "Strong emphasis, aka bold, with **asterisks** or __underscores__.\n",
    "\n",
    "Combined emphasis with **asterisks and _underscores_**.\n",
    "\n",
    "Strikethrough uses a tilde. ~Scratch this.~\n",
    "\n",
    "---\n"
   ]
  },
  {
   "cell_type": "markdown",
   "metadata": {},
   "source": [
    "-----\n",
    "# Writing Hebrew or Arabic\n",
    "\n",
    "Hebrew is a Right-to-left (RTL) text.\n",
    "\n",
    "```html\n",
    "<div dir=\"rtl\">\n",
    "        עברית\n",
    "</div>\n",
    "```        \n",
    "---\n"
   ]
  },
  {
   "cell_type": "markdown",
   "metadata": {},
   "source": [
    "<div dir=\"rtl\">\n",
    "        עברית\n",
    "</div>\n"
   ]
  },
  {
   "cell_type": "code",
   "execution_count": null,
   "metadata": {},
   "outputs": [],
   "source": []
  },
  {
   "cell_type": "code",
   "execution_count": null,
   "metadata": {},
   "outputs": [],
   "source": []
  },
  {
   "cell_type": "markdown",
   "metadata": {
    "id": "kn949qKhGxDw"
   },
   "source": [
    "# Lists\n"
   ]
  },
  {
   "cell_type": "markdown",
   "metadata": {
    "id": "iJC7EmmBGzRe"
   },
   "source": [
    "1. Numbered list\n",
    "    2. Indented item\n",
    "3. etc\n",
    "\n",
    "\n",
    "* Unordered list can use asterisks\n",
    "    * Indented\n"
   ]
  },
  {
   "cell_type": "markdown",
   "metadata": {
    "id": "v2f8IFfue1yP"
   },
   "source": [
    "---\n",
    "# Links\n",
    "Sometimes linking to another website is necesarry in situations where one needs to make a reference or point to a source of information. This is especially useful for tutorials and assignments.\n",
    "\n",
    "to make a link in Markdown use the following syntax\n",
    "\n",
    "~~~\n",
    "[text to click on](hhtps://someurl.com)\n",
    "~~~\n",
    "\n",
    "the square brackets and parentheses are NEEDED\n",
    "\n"
   ]
  },
  {
   "cell_type": "markdown",
   "metadata": {
    "id": "8m6HRBNzHICW"
   },
   "source": [
    "# Images"
   ]
  },
  {
   "cell_type": "markdown",
   "metadata": {
    "id": "DzV4x_k_HOY0"
   },
   "source": [
    " To produce images the syntax is `![alternative text](path/to/image \"Optional title\")`"
   ]
  },
  {
   "cell_type": "markdown",
   "metadata": {
    "id": "lAimbPBQbMng"
   },
   "source": [
    "Alternative text is some text that is showed in case the image cannot be found by the browser. It generally holds a brief description of what is suppose to be seen. "
   ]
  },
  {
   "attachments": {},
   "cell_type": "markdown",
   "metadata": {},
   "source": [
    "Image cell can be created by `Copy-Paste`: copy image and paste it into markdown cell. Image syntax is genereted here automatically."
   ]
  },
  {
   "attachments": {
    "30678964-1c2b-44d5-9ac4-5fd6a70db624.png": {
     "image/png": "[encoded data removed]"
    }
   },
   "cell_type": "markdown",
   "metadata": {},
   "source": [
    "![image.png](attachment:30678964-1c2b-44d5-9ac4-5fd6a70db624.png)"
   ]
  },
  {
   "cell_type": "markdown",
   "metadata": {
    "id": "wo9wb-4rS_7b"
   },
   "source": [
    "# Code and Syntax Highlighting\n"
   ]
  },
  {
   "cell_type": "markdown",
   "metadata": {
    "id": "cNW6winJY9Zz"
   },
   "source": [
    "There are two types of ways to include code or `monospace` text in Notebook.\n",
    "\n",
    "One is `inline code which displays all text as it is typed` in the same line as this sentence. \n",
    "\n",
    "There is also code block with optional syntax higlighting\n",
    "```python\n",
    "# This is a highlighted python code\n",
    "def is_even(x):\n",
    "  if x % 2 == 0:\n",
    "    print(\"{} is even\".format(x))\n",
    "```"
   ]
  },
  {
   "cell_type": "markdown",
   "metadata": {
    "id": "_p0MkVeJAW6i"
   },
   "source": [
    "# Tables\n",
    "Tables are a bit more demanding to code in this enviroment since we are usually used to making table in programs that are more \"what you see is what you get\" like Microsoft Office or Libre office\n"
   ]
  },
  {
   "cell_type": "markdown",
   "metadata": {
    "id": "Uv6PyxT-AZ8s"
   },
   "source": [
    "The code for this table is\n",
    "\n",
    "```\n",
    "| Tables   |      Are      |  Cool |\n",
    "|----------|:-------------:|------:|\n",
    "| col 1 is |  left-aligned |  1600 |\n",
    "| col 2 is |    centered   |    12 |\n",
    "| col 3 is | right-aligned |     1 |\n",
    "```\n",
    "\n"
   ]
  },
  {
   "cell_type": "markdown",
   "metadata": {
    "id": "eeZMsVWnHBob"
   },
   "source": [
    "\n",
    "\n",
    "| Tables   |      Are      |  Cool |\n",
    "|----------|:-------------:|------:|\n",
    "| col 1 is |  left-aligned | 1600 |\n",
    "| col 2 is |    centered   |   12 |\n",
    "| col 3 is | right-aligned |    1 |"
   ]
  },
  {
   "cell_type": "markdown",
   "metadata": {
    "id": "bHkDZExTEO9b"
   },
   "source": [
    "This is a helpful link for generating tables in Markdown and in other languages if you have it already somewhere else\n",
    "[Table Generator link](https://www.tablesgenerator.com/markdown_tables)"
   ]
  },
  {
   "cell_type": "markdown",
   "metadata": {
    "id": "lTmTcYTqk7De"
   },
   "source": [
    "# Horizontal Lines\n",
    "You can use 3 or more hyphens, asterisks or underscores to separte parts of a document or for visual effect\n",
    "\n",
    "\n",
    "```\n",
    "---\n",
    "***\n",
    "___\n",
    "```\n",
    "---"
   ]
  },
  {
   "cell_type": "markdown",
   "metadata": {
    "id": "PQn5cK0S0JcL"
   },
   "source": [
    "# $\\LaTeX$ and math typesetting\n"
   ]
  },
  {
   "cell_type": "markdown",
   "metadata": {
    "id": "yk9T5LsB0Tqd"
   },
   "source": [
    "LaTeX is a typesetting software that has been around for a long time and it is mostly used here for rendering math equations\n"
   ]
  },
  {
   "cell_type": "markdown",
   "metadata": {
    "id": "eI8v57M16rGP"
   },
   "source": [
    "## Inline Math"
   ]
  },
  {
   "cell_type": "markdown",
   "metadata": {
    "id": "48a42Jgt6ukN"
   },
   "source": [
    "Sometimes you just want to refer to an equation like  $ \\phi(x)=\\int_0^x e^{-t^2} dt $ in the same line!\n",
    "\n",
    "this is done by using the `$` on both sides of the expression\n",
    "\n",
    "```\n",
    "Sometimes you just want to refer to an equation like  $ \\phi(x)=\\int_0^x e^{-t^2} dt $ in the same line!\n",
    "```"
   ]
  },
  {
   "cell_type": "markdown",
   "metadata": {
    "id": "AKvYKxCT8JAc"
   },
   "source": [
    "## Display Math"
   ]
  },
  {
   "cell_type": "markdown",
   "metadata": {
    "id": "bOZgWhMB8NEb"
   },
   "source": [
    "But other times you really want to grab the attention to a very important equation like\n",
    "$$\n",
    "V(r) = \\frac{1}{4\\pi \\epsilon_0}\\int \\;  \\frac{dq}{r}\n",
    "\\tag{1}\n",
    "$$ This is done by using `$$` on both sides of the expression\n",
    "\n",
    "```\n",
    "But other times you really want to grab the attention to a very important equation like\n",
    "$$\n",
    "V(r) = \\frac{1}{4\\pi \\epsilon_0}\\int \\;  \\frac{dq}{r}\n",
    "\\tag{1}\n",
    "$$ This is done by using `$$` on both sides of the expression. \n",
    "```\n",
    "\n",
    "Note that optional `\\tag{}` command is used for equation numbering."
   ]
  },
  {
   "cell_type": "code",
   "execution_count": null,
   "metadata": {},
   "outputs": [],
   "source": []
  }
 ],
 "metadata": {
  "colab": {
   "collapsed_sections": [
    "kn949qKhGxDw",
    "v2f8IFfue1yP",
    "wo9wb-4rS_7b",
    "kJDZWhueeSa6"
   ],
   "name": "Introduction to Markdown and Python.ipynb",
   "provenance": [],
   "toc_visible": true
  },
  "kernelspec": {
   "display_name": "Python 3 (ipykernel)",
   "language": "python",
   "name": "python3"
  },
  "language_info": {
   "codemirror_mode": {
    "name": "ipython",
    "version": 3
   },
   "file_extension": ".py",
   "mimetype": "text/x-python",
   "name": "python",
   "nbconvert_exporter": "python",
   "pygments_lexer": "ipython3",
   "version": "3.10.9"
  }
 },
 "nbformat": 4,
 "nbformat_minor": 4
}

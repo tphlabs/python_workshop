{
  "nbformat": 4,
  "nbformat_minor": 0,
  "metadata": {
    "colab": {
      "provenance": [],
      "authorship_tag": "ABX9TyPpnWJmoyZT4Z8rtKUlApbb",
      "include_colab_link": true
    },
    "kernelspec": {
      "name": "python3",
      "display_name": "Python 3"
    },
    "language_info": {
      "name": "python"
    },
    "widgets": {
      "application/vnd.jupyter.widget-state+json": {
        "2a9044ba51e94d5dae68fe22e777dedf": {
          "model_module": "@jupyter-widgets/controls",
          "model_name": "VBoxModel",
          "model_module_version": "1.5.0",
          "state": {
            "_dom_classes": [
              "widget-interact"
            ],
            "_model_module": "@jupyter-widgets/controls",
            "_model_module_version": "1.5.0",
            "_model_name": "VBoxModel",
            "_view_count": null,
            "_view_module": "@jupyter-widgets/controls",
            "_view_module_version": "1.5.0",
            "_view_name": "VBoxView",
            "box_style": "",
            "children": [
              "IPY_MODEL_23c4214bdbf24c71a9324f19c1cb4376",
              "IPY_MODEL_f7f7c56e6046450eb69ee528b77d3e34"
            ],
            "layout": "IPY_MODEL_ece9b9a147e84372b3cb7101e02bdcad"
          }
        },
        "23c4214bdbf24c71a9324f19c1cb4376": {
          "model_module": "@jupyter-widgets/controls",
          "model_name": "FloatSliderModel",
          "model_module_version": "1.5.0",
          "state": {
            "_dom_classes": [],
            "_model_module": "@jupyter-widgets/controls",
            "_model_module_version": "1.5.0",
            "_model_name": "FloatSliderModel",
            "_view_count": null,
            "_view_module": "@jupyter-widgets/controls",
            "_view_module_version": "1.5.0",
            "_view_name": "FloatSliderView",
            "continuous_update": true,
            "description": "Last 1/σ",
            "description_tooltip": null,
            "disabled": false,
            "layout": "IPY_MODEL_e166d58969b8460a87afdeab7fc70d63",
            "max": 10,
            "min": 0.1,
            "orientation": "horizontal",
            "readout": true,
            "readout_format": ".2f",
            "step": 0.1,
            "style": "IPY_MODEL_e901896fa6a14ab4bc05d6f0da7609f5",
            "value": 0.1
          }
        },
        "f7f7c56e6046450eb69ee528b77d3e34": {
          "model_module": "@jupyter-widgets/output",
          "model_name": "OutputModel",
          "model_module_version": "1.0.0",
          "state": {
            "_dom_classes": [],
            "_model_module": "@jupyter-widgets/output",
            "_model_module_version": "1.0.0",
            "_model_name": "OutputModel",
            "_view_count": null,
            "_view_module": "@jupyter-widgets/output",
            "_view_module_version": "1.0.0",
            "_view_name": "OutputView",
            "layout": "IPY_MODEL_265f512e47f14a02bf014b4f28ea188c",
            "msg_id": "",
            "outputs": [
              {
                "output_type": "display_data",
                "data": {
                  "text/plain": "<Figure size 640x480 with 1 Axes>",
                  "image/png": "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\n"
                },
                "metadata": {}
              }
            ]
          }
        },
        "ece9b9a147e84372b3cb7101e02bdcad": {
          "model_module": "@jupyter-widgets/base",
          "model_name": "LayoutModel",
          "model_module_version": "1.2.0",
          "state": {
            "_model_module": "@jupyter-widgets/base",
            "_model_module_version": "1.2.0",
            "_model_name": "LayoutModel",
            "_view_count": null,
            "_view_module": "@jupyter-widgets/base",
            "_view_module_version": "1.2.0",
            "_view_name": "LayoutView",
            "align_content": null,
            "align_items": null,
            "align_self": null,
            "border": null,
            "bottom": null,
            "display": null,
            "flex": null,
            "flex_flow": null,
            "grid_area": null,
            "grid_auto_columns": null,
            "grid_auto_flow": null,
            "grid_auto_rows": null,
            "grid_column": null,
            "grid_gap": null,
            "grid_row": null,
            "grid_template_areas": null,
            "grid_template_columns": null,
            "grid_template_rows": null,
            "height": null,
            "justify_content": null,
            "justify_items": null,
            "left": null,
            "margin": null,
            "max_height": null,
            "max_width": null,
            "min_height": null,
            "min_width": null,
            "object_fit": null,
            "object_position": null,
            "order": null,
            "overflow": null,
            "overflow_x": null,
            "overflow_y": null,
            "padding": null,
            "right": null,
            "top": null,
            "visibility": null,
            "width": null
          }
        },
        "e166d58969b8460a87afdeab7fc70d63": {
          "model_module": "@jupyter-widgets/base",
          "model_name": "LayoutModel",
          "model_module_version": "1.2.0",
          "state": {
            "_model_module": "@jupyter-widgets/base",
            "_model_module_version": "1.2.0",
            "_model_name": "LayoutModel",
            "_view_count": null,
            "_view_module": "@jupyter-widgets/base",
            "_view_module_version": "1.2.0",
            "_view_name": "LayoutView",
            "align_content": null,
            "align_items": null,
            "align_self": null,
            "border": null,
            "bottom": null,
            "display": null,
            "flex": null,
            "flex_flow": null,
            "grid_area": null,
            "grid_auto_columns": null,
            "grid_auto_flow": null,
            "grid_auto_rows": null,
            "grid_column": null,
            "grid_gap": null,
            "grid_row": null,
            "grid_template_areas": null,
            "grid_template_columns": null,
            "grid_template_rows": null,
            "height": null,
            "justify_content": null,
            "justify_items": null,
            "left": null,
            "margin": null,
            "max_height": null,
            "max_width": null,
            "min_height": null,
            "min_width": null,
            "object_fit": null,
            "object_position": null,
            "order": null,
            "overflow": null,
            "overflow_x": null,
            "overflow_y": null,
            "padding": null,
            "right": null,
            "top": null,
            "visibility": null,
            "width": null
          }
        },
        "e901896fa6a14ab4bc05d6f0da7609f5": {
          "model_module": "@jupyter-widgets/controls",
          "model_name": "SliderStyleModel",
          "model_module_version": "1.5.0",
          "state": {
            "_model_module": "@jupyter-widgets/controls",
            "_model_module_version": "1.5.0",
            "_model_name": "SliderStyleModel",
            "_view_count": null,
            "_view_module": "@jupyter-widgets/base",
            "_view_module_version": "1.2.0",
            "_view_name": "StyleView",
            "description_width": "",
            "handle_color": null
          }
        },
        "265f512e47f14a02bf014b4f28ea188c": {
          "model_module": "@jupyter-widgets/base",
          "model_name": "LayoutModel",
          "model_module_version": "1.2.0",
          "state": {
            "_model_module": "@jupyter-widgets/base",
            "_model_module_version": "1.2.0",
            "_model_name": "LayoutModel",
            "_view_count": null,
            "_view_module": "@jupyter-widgets/base",
            "_view_module_version": "1.2.0",
            "_view_name": "LayoutView",
            "align_content": null,
            "align_items": null,
            "align_self": null,
            "border": null,
            "bottom": null,
            "display": null,
            "flex": null,
            "flex_flow": null,
            "grid_area": null,
            "grid_auto_columns": null,
            "grid_auto_flow": null,
            "grid_auto_rows": null,
            "grid_column": null,
            "grid_gap": null,
            "grid_row": null,
            "grid_template_areas": null,
            "grid_template_columns": null,
            "grid_template_rows": null,
            "height": null,
            "justify_content": null,
            "justify_items": null,
            "left": null,
            "margin": null,
            "max_height": null,
            "max_width": null,
            "min_height": null,
            "min_width": null,
            "object_fit": null,
            "object_position": null,
            "order": null,
            "overflow": null,
            "overflow_x": null,
            "overflow_y": null,
            "padding": null,
            "right": null,
            "top": null,
            "visibility": null,
            "width": null
          }
        }
      }
    }
  },
  "cells": [
    {
      "cell_type": "markdown",
      "metadata": {
        "id": "view-in-github",
        "colab_type": "text"
      },
      "source": [
        "<a href=\"https://colab.research.google.com/github/tphlabs/python_workshop/blob/main/Linreg_error.ipynb\" target=\"_parent\"><img src=\"https://colab.research.google.com/assets/colab-badge.svg\" alt=\"Open In Colab\"/></a>"
      ]
    },
    {
      "cell_type": "markdown",
      "source": [
        "#Linear regression with uncertainties\n",
        "\n",
        "Interactive demo\n",
        "\n",
        "Evgeny Kolonsky, May 2024, v0.2"
      ],
      "metadata": {
        "id": "bUFIhyLYZFgv"
      }
    },
    {
      "cell_type": "markdown",
      "source": [
        "For $(x_i, y_i \\pm \\sigma_i)$ find best approximation $y = ax + b$ and define $(a, b)$ uncertainties."
      ],
      "metadata": {
        "id": "n7W8PloPZLZ2"
      }
    },
    {
      "cell_type": "code",
      "source": [
        "import numpy as np\n",
        "import matplotlib.pyplot as plt\n",
        "from scipy.optimize import curve_fit\n",
        "from ipywidgets import interact, FloatSlider, Output"
      ],
      "metadata": {
        "id": "nWo0_MbPZw6K"
      },
      "execution_count": 1,
      "outputs": []
    },
    {
      "cell_type": "code",
      "source": [
        "def linear(x, slope, offset):\n",
        "    return slope * x + offset\n",
        "\n",
        "\n",
        "measurements = '''\n",
        "# x, y, sigma\n",
        "0 1 .5\n",
        "1 2 .5\n",
        "2 3 .5\n",
        "3 4 .5\n",
        "4 0 0\n",
        "'''\n",
        "\n",
        "def show_fit(sigma_factor):\n",
        "    x, y, sigma = np.loadtxt(measurements.splitlines()).T\n",
        "    sigma[-1] = 1/sigma_factor # let's change uncertainty only in the last point (for clarity)\n",
        "\n",
        "    # find a, b with uncertainties\n",
        "    popt, pcov = curve_fit(linear, x, y, sigma=sigma)\n",
        "    a, b = popt\n",
        "    a_err, b_err = np.sqrt(np.diag(pcov))\n",
        "    # plot\n",
        "    plt.errorbar(x, y, yerr=sigma, fmt='o')\n",
        "    plt.errorbar(x[-1], y[-1], yerr=sigma[-1], fmt='ro')\n",
        "    plt.plot(x, linear(x, a, b), label=f'fit slope={a:.1f}±{a_err/a*100:.0f}% offset={b:.1f}±{b_err/b*100:.0f}%')\n",
        "\n",
        "    plt.fill_between(x, (a - a_err) * x + (b + b_err),\n",
        "                        (a +a_err) * x + (b - b_err),\n",
        "                        alpha=0.5)\n",
        "    plt.legend()\n",
        "    plt.grid()\n",
        "    plt.ylim(-4, 10)\n",
        "    plt.show()\n",
        "\n",
        "interact(show_fit, sigma_factor = FloatSlider(value=.1, min=.1, max=10, step=.1,\n",
        "                                            description='Last 1/σ'));\n"
      ],
      "metadata": {
        "colab": {
          "base_uri": "https://localhost:8080/",
          "height": 467,
          "referenced_widgets": [
            "2a9044ba51e94d5dae68fe22e777dedf",
            "23c4214bdbf24c71a9324f19c1cb4376",
            "f7f7c56e6046450eb69ee528b77d3e34",
            "ece9b9a147e84372b3cb7101e02bdcad",
            "e166d58969b8460a87afdeab7fc70d63",
            "e901896fa6a14ab4bc05d6f0da7609f5",
            "265f512e47f14a02bf014b4f28ea188c"
          ]
        },
        "id": "4sicIEpwdCsU",
        "outputId": "b69a533a-dd1c-4be3-9fa6-1f97f9c47809"
      },
      "execution_count": 4,
      "outputs": [
        {
          "output_type": "display_data",
          "data": {
            "text/plain": [
              "interactive(children=(FloatSlider(value=0.1, description='Last 1/σ', max=10.0, min=0.1), Output()), _dom_class…"
            ],
            "application/vnd.jupyter.widget-view+json": {
              "version_major": 2,
              "version_minor": 0,
              "model_id": "2a9044ba51e94d5dae68fe22e777dedf"
            }
          },
          "metadata": {}
        }
      ]
    },
    {
      "cell_type": "code",
      "source": [],
      "metadata": {
        "id": "KjooZK0Ru2PT"
      },
      "execution_count": 2,
      "outputs": []
    }
  ]
}
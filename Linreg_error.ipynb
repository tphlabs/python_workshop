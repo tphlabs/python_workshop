{
  "nbformat": 4,
  "nbformat_minor": 0,
  "metadata": {
    "colab": {
      "provenance": [],
      "authorship_tag": "ABX9TyPKFHHC1fH1hRFxY1zUyYW6",
      "include_colab_link": true
    },
    "kernelspec": {
      "name": "python3",
      "display_name": "Python 3"
    },
    "language_info": {
      "name": "python"
    },
    "widgets": {
      "application/vnd.jupyter.widget-state+json": {
        "388b9b0f7c0f4becbac7a47d59ac9fb2": {
          "model_module": "@jupyter-widgets/controls",
          "model_name": "VBoxModel",
          "model_module_version": "1.5.0",
          "state": {
            "_dom_classes": [
              "widget-interact"
            ],
            "_model_module": "@jupyter-widgets/controls",
            "_model_module_version": "1.5.0",
            "_model_name": "VBoxModel",
            "_view_count": null,
            "_view_module": "@jupyter-widgets/controls",
            "_view_module_version": "1.5.0",
            "_view_name": "VBoxView",
            "box_style": "",
            "children": [
              "IPY_MODEL_8008ad6fb37a4e458848fc5fbf79ecea",
              "IPY_MODEL_31cb821e7b1f41afae57a28a8d4882ad"
            ],
            "layout": "IPY_MODEL_f828d040dd8e4cdf8a6e43317a283a2c"
          }
        },
        "8008ad6fb37a4e458848fc5fbf79ecea": {
          "model_module": "@jupyter-widgets/controls",
          "model_name": "FloatSliderModel",
          "model_module_version": "1.5.0",
          "state": {
            "_dom_classes": [],
            "_model_module": "@jupyter-widgets/controls",
            "_model_module_version": "1.5.0",
            "_model_name": "FloatSliderModel",
            "_view_count": null,
            "_view_module": "@jupyter-widgets/controls",
            "_view_module_version": "1.5.0",
            "_view_name": "FloatSliderView",
            "continuous_update": true,
            "description": "Last 1/σ",
            "description_tooltip": null,
            "disabled": false,
            "layout": "IPY_MODEL_08d3822676f14180884ca805cb837713",
            "max": 10,
            "min": 0.1,
            "orientation": "horizontal",
            "readout": true,
            "readout_format": ".2f",
            "step": 0.1,
            "style": "IPY_MODEL_6117c924d11e4c709755b01ccd0c3c1c",
            "value": 8.1
          }
        },
        "31cb821e7b1f41afae57a28a8d4882ad": {
          "model_module": "@jupyter-widgets/output",
          "model_name": "OutputModel",
          "model_module_version": "1.0.0",
          "state": {
            "_dom_classes": [],
            "_model_module": "@jupyter-widgets/output",
            "_model_module_version": "1.0.0",
            "_model_name": "OutputModel",
            "_view_count": null,
            "_view_module": "@jupyter-widgets/output",
            "_view_module_version": "1.0.0",
            "_view_name": "OutputView",
            "layout": "IPY_MODEL_3b0e0080e34c47f69dd1b8bdcdfee52f",
            "msg_id": "",
            "outputs": [
              {
                "output_type": "display_data",
                "data": {
                  "text/plain": "<Figure size 640x480 with 1 Axes>",
                  "image/png": "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\n"
                },
                "metadata": {}
              }
            ]
          }
        },
        "f828d040dd8e4cdf8a6e43317a283a2c": {
          "model_module": "@jupyter-widgets/base",
          "model_name": "LayoutModel",
          "model_module_version": "1.2.0",
          "state": {
            "_model_module": "@jupyter-widgets/base",
            "_model_module_version": "1.2.0",
            "_model_name": "LayoutModel",
            "_view_count": null,
            "_view_module": "@jupyter-widgets/base",
            "_view_module_version": "1.2.0",
            "_view_name": "LayoutView",
            "align_content": null,
            "align_items": null,
            "align_self": null,
            "border": null,
            "bottom": null,
            "display": null,
            "flex": null,
            "flex_flow": null,
            "grid_area": null,
            "grid_auto_columns": null,
            "grid_auto_flow": null,
            "grid_auto_rows": null,
            "grid_column": null,
            "grid_gap": null,
            "grid_row": null,
            "grid_template_areas": null,
            "grid_template_columns": null,
            "grid_template_rows": null,
            "height": null,
            "justify_content": null,
            "justify_items": null,
            "left": null,
            "margin": null,
            "max_height": null,
            "max_width": null,
            "min_height": null,
            "min_width": null,
            "object_fit": null,
            "object_position": null,
            "order": null,
            "overflow": null,
            "overflow_x": null,
            "overflow_y": null,
            "padding": null,
            "right": null,
            "top": null,
            "visibility": null,
            "width": null
          }
        },
        "08d3822676f14180884ca805cb837713": {
          "model_module": "@jupyter-widgets/base",
          "model_name": "LayoutModel",
          "model_module_version": "1.2.0",
          "state": {
            "_model_module": "@jupyter-widgets/base",
            "_model_module_version": "1.2.0",
            "_model_name": "LayoutModel",
            "_view_count": null,
            "_view_module": "@jupyter-widgets/base",
            "_view_module_version": "1.2.0",
            "_view_name": "LayoutView",
            "align_content": null,
            "align_items": null,
            "align_self": null,
            "border": null,
            "bottom": null,
            "display": null,
            "flex": null,
            "flex_flow": null,
            "grid_area": null,
            "grid_auto_columns": null,
            "grid_auto_flow": null,
            "grid_auto_rows": null,
            "grid_column": null,
            "grid_gap": null,
            "grid_row": null,
            "grid_template_areas": null,
            "grid_template_columns": null,
            "grid_template_rows": null,
            "height": null,
            "justify_content": null,
            "justify_items": null,
            "left": null,
            "margin": null,
            "max_height": null,
            "max_width": null,
            "min_height": null,
            "min_width": null,
            "object_fit": null,
            "object_position": null,
            "order": null,
            "overflow": null,
            "overflow_x": null,
            "overflow_y": null,
            "padding": null,
            "right": null,
            "top": null,
            "visibility": null,
            "width": null
          }
        },
        "6117c924d11e4c709755b01ccd0c3c1c": {
          "model_module": "@jupyter-widgets/controls",
          "model_name": "SliderStyleModel",
          "model_module_version": "1.5.0",
          "state": {
            "_model_module": "@jupyter-widgets/controls",
            "_model_module_version": "1.5.0",
            "_model_name": "SliderStyleModel",
            "_view_count": null,
            "_view_module": "@jupyter-widgets/base",
            "_view_module_version": "1.2.0",
            "_view_name": "StyleView",
            "description_width": "",
            "handle_color": null
          }
        },
        "3b0e0080e34c47f69dd1b8bdcdfee52f": {
          "model_module": "@jupyter-widgets/base",
          "model_name": "LayoutModel",
          "model_module_version": "1.2.0",
          "state": {
            "_model_module": "@jupyter-widgets/base",
            "_model_module_version": "1.2.0",
            "_model_name": "LayoutModel",
            "_view_count": null,
            "_view_module": "@jupyter-widgets/base",
            "_view_module_version": "1.2.0",
            "_view_name": "LayoutView",
            "align_content": null,
            "align_items": null,
            "align_self": null,
            "border": null,
            "bottom": null,
            "display": null,
            "flex": null,
            "flex_flow": null,
            "grid_area": null,
            "grid_auto_columns": null,
            "grid_auto_flow": null,
            "grid_auto_rows": null,
            "grid_column": null,
            "grid_gap": null,
            "grid_row": null,
            "grid_template_areas": null,
            "grid_template_columns": null,
            "grid_template_rows": null,
            "height": null,
            "justify_content": null,
            "justify_items": null,
            "left": null,
            "margin": null,
            "max_height": null,
            "max_width": null,
            "min_height": null,
            "min_width": null,
            "object_fit": null,
            "object_position": null,
            "order": null,
            "overflow": null,
            "overflow_x": null,
            "overflow_y": null,
            "padding": null,
            "right": null,
            "top": null,
            "visibility": null,
            "width": null
          }
        }
      }
    }
  },
  "cells": [
    {
      "cell_type": "markdown",
      "metadata": {
        "id": "view-in-github",
        "colab_type": "text"
      },
      "source": [
        "<a href=\"https://colab.research.google.com/github/tphlabs/python_workshop/blob/main/Linreg_error.ipynb\" target=\"_parent\"><img src=\"https://colab.research.google.com/assets/colab-badge.svg\" alt=\"Open In Colab\"/></a>"
      ]
    },
    {
      "cell_type": "markdown",
      "source": [
        "#Linear regression with uncertainties\n",
        "\n",
        "Interactive demo\n",
        "\n",
        "Evgeny Kolonsky, May 2024, v0.2"
      ],
      "metadata": {
        "id": "bUFIhyLYZFgv"
      }
    },
    {
      "cell_type": "markdown",
      "source": [
        "For $(x_i, y_i \\pm \\sigma_i)$ find best approximation $y = ax + b$ and define $(a, b)$ uncertainties."
      ],
      "metadata": {
        "id": "n7W8PloPZLZ2"
      }
    },
    {
      "cell_type": "code",
      "source": [
        "import numpy as np\n",
        "import matplotlib.pyplot as plt\n",
        "from scipy.optimize import curve_fit\n",
        "from ipywidgets import interact, FloatSlider, Output"
      ],
      "metadata": {
        "id": "nWo0_MbPZw6K"
      },
      "execution_count": 1,
      "outputs": []
    },
    {
      "cell_type": "code",
      "source": [
        "def linear(x, slope, offset):\n",
        "    return slope * x + offset\n",
        "\n",
        "\n",
        "measurements = '''\n",
        "# x, y, sigma\n",
        "0 1 .5\n",
        "1 2 .5\n",
        "2 3 .5\n",
        "3 4 .5\n",
        "4 0 0\n",
        "'''\n",
        "\n",
        "def show_fit(sigma_factor):\n",
        "    x, y, sigma = np.loadtxt(measurements.splitlines()).T\n",
        "    sigma[-1] = 1/sigma_factor # let's change uncertainty only in the last point (for clarity)\n",
        "\n",
        "    # find a, b with uncertainties\n",
        "    popt, pcov = curve_fit(linear, x, y, sigma=sigma)\n",
        "    a, b = popt\n",
        "    a_err, b_err = np.sqrt(np.diag(pcov))\n",
        "    # plot\n",
        "    plt.errorbar(x, y, yerr=sigma, fmt='o', capsize=2)\n",
        "    plt.errorbar(x[-1], y[-1], yerr=sigma[-1], fmt='ro', capsize=2)\n",
        "    plt.plot(x, linear(x, a, b), label=f'fit slope={a:.1f}±{a_err/np.abs(a)*100:.0f}% \\\n",
        "                                             offset={b:.1f}±{b_err/np.abs(b)*100:.0f}%')\n",
        "\n",
        "    plt.fill_between(x, (a - a_err) * x + (b + b_err),\n",
        "                        (a +a_err) * x + (b - b_err),\n",
        "                        alpha=0.5)\n",
        "    plt.legend()\n",
        "    plt.grid()\n",
        "    plt.ylim(-4, 10)\n",
        "    plt.show()\n",
        "\n",
        "interact(show_fit, sigma_factor = FloatSlider(value=.1, min=.1, max=10, step=.1,\n",
        "                                            description='Last 1/σ'));\n"
      ],
      "metadata": {
        "colab": {
          "base_uri": "https://localhost:8080/",
          "height": 467,
          "referenced_widgets": [
            "388b9b0f7c0f4becbac7a47d59ac9fb2",
            "8008ad6fb37a4e458848fc5fbf79ecea",
            "31cb821e7b1f41afae57a28a8d4882ad",
            "f828d040dd8e4cdf8a6e43317a283a2c",
            "08d3822676f14180884ca805cb837713",
            "6117c924d11e4c709755b01ccd0c3c1c",
            "3b0e0080e34c47f69dd1b8bdcdfee52f"
          ]
        },
        "id": "4sicIEpwdCsU",
        "outputId": "ed0d625d-a130-41da-fce5-41ad6f8803d2"
      },
      "execution_count": 9,
      "outputs": [
        {
          "output_type": "display_data",
          "data": {
            "text/plain": [
              "interactive(children=(FloatSlider(value=0.1, description='Last 1/σ', max=10.0, min=0.1), Output()), _dom_class…"
            ],
            "application/vnd.jupyter.widget-view+json": {
              "version_major": 2,
              "version_minor": 0,
              "model_id": "388b9b0f7c0f4becbac7a47d59ac9fb2"
            }
          },
          "metadata": {}
        }
      ]
    },
    {
      "cell_type": "code",
      "source": [],
      "metadata": {
        "id": "KjooZK0Ru2PT"
      },
      "execution_count": 2,
      "outputs": []
    }
  ]
}
{
  "nbformat": 4,
  "nbformat_minor": 0,
  "metadata": {
    "colab": {
      "provenance": [],
      "authorship_tag": "ABX9TyNITPXGAX9VjPStj/zHL1oG",
      "include_colab_link": true
    },
    "kernelspec": {
      "name": "python3",
      "display_name": "Python 3"
    },
    "language_info": {
      "name": "python"
    },
    "widgets": {
      "application/vnd.jupyter.widget-state+json": {
        "97cd6d6bca1b4c9f997296fb0e3be74a": {
          "model_module": "@jupyter-widgets/controls",
          "model_name": "VBoxModel",
          "model_module_version": "1.5.0",
          "state": {
            "_dom_classes": [
              "widget-interact"
            ],
            "_model_module": "@jupyter-widgets/controls",
            "_model_module_version": "1.5.0",
            "_model_name": "VBoxModel",
            "_view_count": null,
            "_view_module": "@jupyter-widgets/controls",
            "_view_module_version": "1.5.0",
            "_view_name": "VBoxView",
            "box_style": "",
            "children": [
              "IPY_MODEL_82c30e015f2f454db820374fc16cb987",
              "IPY_MODEL_7e21f0316a0e4b5eae75cfd29dcbd208"
            ],
            "layout": "IPY_MODEL_11fdc124576e483abdd00da49d0efe33"
          }
        },
        "82c30e015f2f454db820374fc16cb987": {
          "model_module": "@jupyter-widgets/controls",
          "model_name": "FloatSliderModel",
          "model_module_version": "1.5.0",
          "state": {
            "_dom_classes": [],
            "_model_module": "@jupyter-widgets/controls",
            "_model_module_version": "1.5.0",
            "_model_name": "FloatSliderModel",
            "_view_count": null,
            "_view_module": "@jupyter-widgets/controls",
            "_view_module_version": "1.5.0",
            "_view_name": "FloatSliderView",
            "continuous_update": true,
            "description": "Last 1/σ",
            "description_tooltip": null,
            "disabled": false,
            "layout": "IPY_MODEL_73985bd5c81e4aae950e46c5cb92c92d",
            "max": 4,
            "min": 0.1,
            "orientation": "horizontal",
            "readout": true,
            "readout_format": ".2f",
            "step": 0.1,
            "style": "IPY_MODEL_8def008a12874d9a85fe03b27b423f70",
            "value": 0.1
          }
        },
        "7e21f0316a0e4b5eae75cfd29dcbd208": {
          "model_module": "@jupyter-widgets/output",
          "model_name": "OutputModel",
          "model_module_version": "1.0.0",
          "state": {
            "_dom_classes": [],
            "_model_module": "@jupyter-widgets/output",
            "_model_module_version": "1.0.0",
            "_model_name": "OutputModel",
            "_view_count": null,
            "_view_module": "@jupyter-widgets/output",
            "_view_module_version": "1.0.0",
            "_view_name": "OutputView",
            "layout": "IPY_MODEL_9accfb86c98b408395f3a9e2f43f968b",
            "msg_id": "",
            "outputs": [
              {
                "output_type": "display_data",
                "data": {
                  "text/plain": "<Figure size 640x480 with 1 Axes>",
                  "image/png": "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\n"
                },
                "metadata": {}
              }
            ]
          }
        },
        "11fdc124576e483abdd00da49d0efe33": {
          "model_module": "@jupyter-widgets/base",
          "model_name": "LayoutModel",
          "model_module_version": "1.2.0",
          "state": {
            "_model_module": "@jupyter-widgets/base",
            "_model_module_version": "1.2.0",
            "_model_name": "LayoutModel",
            "_view_count": null,
            "_view_module": "@jupyter-widgets/base",
            "_view_module_version": "1.2.0",
            "_view_name": "LayoutView",
            "align_content": null,
            "align_items": null,
            "align_self": null,
            "border": null,
            "bottom": null,
            "display": null,
            "flex": null,
            "flex_flow": null,
            "grid_area": null,
            "grid_auto_columns": null,
            "grid_auto_flow": null,
            "grid_auto_rows": null,
            "grid_column": null,
            "grid_gap": null,
            "grid_row": null,
            "grid_template_areas": null,
            "grid_template_columns": null,
            "grid_template_rows": null,
            "height": null,
            "justify_content": null,
            "justify_items": null,
            "left": null,
            "margin": null,
            "max_height": null,
            "max_width": null,
            "min_height": null,
            "min_width": null,
            "object_fit": null,
            "object_position": null,
            "order": null,
            "overflow": null,
            "overflow_x": null,
            "overflow_y": null,
            "padding": null,
            "right": null,
            "top": null,
            "visibility": null,
            "width": null
          }
        },
        "73985bd5c81e4aae950e46c5cb92c92d": {
          "model_module": "@jupyter-widgets/base",
          "model_name": "LayoutModel",
          "model_module_version": "1.2.0",
          "state": {
            "_model_module": "@jupyter-widgets/base",
            "_model_module_version": "1.2.0",
            "_model_name": "LayoutModel",
            "_view_count": null,
            "_view_module": "@jupyter-widgets/base",
            "_view_module_version": "1.2.0",
            "_view_name": "LayoutView",
            "align_content": null,
            "align_items": null,
            "align_self": null,
            "border": null,
            "bottom": null,
            "display": null,
            "flex": null,
            "flex_flow": null,
            "grid_area": null,
            "grid_auto_columns": null,
            "grid_auto_flow": null,
            "grid_auto_rows": null,
            "grid_column": null,
            "grid_gap": null,
            "grid_row": null,
            "grid_template_areas": null,
            "grid_template_columns": null,
            "grid_template_rows": null,
            "height": null,
            "justify_content": null,
            "justify_items": null,
            "left": null,
            "margin": null,
            "max_height": null,
            "max_width": null,
            "min_height": null,
            "min_width": null,
            "object_fit": null,
            "object_position": null,
            "order": null,
            "overflow": null,
            "overflow_x": null,
            "overflow_y": null,
            "padding": null,
            "right": null,
            "top": null,
            "visibility": null,
            "width": null
          }
        },
        "8def008a12874d9a85fe03b27b423f70": {
          "model_module": "@jupyter-widgets/controls",
          "model_name": "SliderStyleModel",
          "model_module_version": "1.5.0",
          "state": {
            "_model_module": "@jupyter-widgets/controls",
            "_model_module_version": "1.5.0",
            "_model_name": "SliderStyleModel",
            "_view_count": null,
            "_view_module": "@jupyter-widgets/base",
            "_view_module_version": "1.2.0",
            "_view_name": "StyleView",
            "description_width": "",
            "handle_color": null
          }
        },
        "9accfb86c98b408395f3a9e2f43f968b": {
          "model_module": "@jupyter-widgets/base",
          "model_name": "LayoutModel",
          "model_module_version": "1.2.0",
          "state": {
            "_model_module": "@jupyter-widgets/base",
            "_model_module_version": "1.2.0",
            "_model_name": "LayoutModel",
            "_view_count": null,
            "_view_module": "@jupyter-widgets/base",
            "_view_module_version": "1.2.0",
            "_view_name": "LayoutView",
            "align_content": null,
            "align_items": null,
            "align_self": null,
            "border": null,
            "bottom": null,
            "display": null,
            "flex": null,
            "flex_flow": null,
            "grid_area": null,
            "grid_auto_columns": null,
            "grid_auto_flow": null,
            "grid_auto_rows": null,
            "grid_column": null,
            "grid_gap": null,
            "grid_row": null,
            "grid_template_areas": null,
            "grid_template_columns": null,
            "grid_template_rows": null,
            "height": null,
            "justify_content": null,
            "justify_items": null,
            "left": null,
            "margin": null,
            "max_height": null,
            "max_width": null,
            "min_height": null,
            "min_width": null,
            "object_fit": null,
            "object_position": null,
            "order": null,
            "overflow": null,
            "overflow_x": null,
            "overflow_y": null,
            "padding": null,
            "right": null,
            "top": null,
            "visibility": null,
            "width": null
          }
        }
      }
    }
  },
  "cells": [
    {
      "cell_type": "markdown",
      "metadata": {
        "id": "view-in-github",
        "colab_type": "text"
      },
      "source": [
        "<a href=\"https://colab.research.google.com/github/tphlabs/python_workshop/blob/main/Linreg_error.ipynb\" target=\"_parent\"><img src=\"https://colab.research.google.com/assets/colab-badge.svg\" alt=\"Open In Colab\"/></a>"
      ]
    },
    {
      "cell_type": "markdown",
      "source": [
        "#Linear regression with uncertainties\n",
        "\n",
        "Interactive demo\n",
        "\n",
        "Evgeny Kolonsky, May 2024"
      ],
      "metadata": {
        "id": "bUFIhyLYZFgv"
      }
    },
    {
      "cell_type": "markdown",
      "source": [
        "For $(x_i, y_i \\pm \\sigma_i)$ find best approximation $y = ax + b$ and define $(a, b)$ uncertainties."
      ],
      "metadata": {
        "id": "n7W8PloPZLZ2"
      }
    },
    {
      "cell_type": "code",
      "source": [
        "import numpy as np\n",
        "import matplotlib.pyplot as plt\n",
        "from scipy.optimize import curve_fit\n",
        "from ipywidgets import interact, FloatSlider, Output"
      ],
      "metadata": {
        "id": "nWo0_MbPZw6K"
      },
      "execution_count": 3,
      "outputs": []
    },
    {
      "cell_type": "code",
      "source": [
        "def linear(x, slope, offset):\n",
        "    return slope * x + offset\n",
        "\n",
        "\n",
        "measurements = '''\n",
        "# x, y, sigma\n",
        "0 1 .5\n",
        "1 2 .5\n",
        "2 3 .5\n",
        "3 4 .5\n",
        "4 0 0\n",
        "'''\n",
        "\n",
        "def show_fit(sigma_factor):\n",
        "    x, y, sigma = np.loadtxt(measurements.splitlines()).T\n",
        "    sigma[-1] = 1/sigma_factor # let's change uncertainty only in the last point (for clarity)\n",
        "\n",
        "    # find a, b with uncertainties\n",
        "    popt, pcov = curve_fit(linear, x, y, sigma=sigma)\n",
        "    a, b = popt\n",
        "    a_err, b_err = np.sqrt(np.diag(pcov))\n",
        "    # plot\n",
        "    plt.errorbar(x, y, yerr=sigma, fmt='o')\n",
        "    plt.errorbar(x[-1], y[-1], yerr=sigma[-1], fmt='ro')\n",
        "    plt.plot(x, linear(x, a, b), label=f'fit slope={a:.1f}±{a_err/a*100:.0f}% offset={b:.1f}±{b_err/b*100:.0f}%')\n",
        "\n",
        "    plt.fill_between(x, a * x + b - b_err, a * x + b + b_err, alpha=0.5)\n",
        "    plt.fill_between(x, (a - a_err) * x + b , (a +a_err) * x + b, alpha=0.5)\n",
        "    plt.legend()\n",
        "    plt.grid()\n",
        "    plt.ylim(-4, 10)\n",
        "    plt.show()\n",
        "\n",
        "interact(show_fit, sigma_factor = FloatSlider(value=.1, min=.1, max=4, step=.1,\n",
        "                                            description='Last 1/σ'));\n"
      ],
      "metadata": {
        "colab": {
          "base_uri": "https://localhost:8080/",
          "height": 467,
          "referenced_widgets": [
            "97cd6d6bca1b4c9f997296fb0e3be74a",
            "82c30e015f2f454db820374fc16cb987",
            "7e21f0316a0e4b5eae75cfd29dcbd208",
            "11fdc124576e483abdd00da49d0efe33",
            "73985bd5c81e4aae950e46c5cb92c92d",
            "8def008a12874d9a85fe03b27b423f70",
            "9accfb86c98b408395f3a9e2f43f968b"
          ]
        },
        "id": "4sicIEpwdCsU",
        "outputId": "f4b575f0-2b6b-48f4-bbc0-e34d5ab41ffd"
      },
      "execution_count": 22,
      "outputs": [
        {
          "output_type": "display_data",
          "data": {
            "text/plain": [
              "interactive(children=(FloatSlider(value=0.1, description='Last 1/σ', max=4.0, min=0.1), Output()), _dom_classe…"
            ],
            "application/vnd.jupyter.widget-view+json": {
              "version_major": 2,
              "version_minor": 0,
              "model_id": "97cd6d6bca1b4c9f997296fb0e3be74a"
            }
          },
          "metadata": {}
        }
      ]
    },
    {
      "cell_type": "code",
      "source": [],
      "metadata": {
        "id": "KjooZK0Ru2PT"
      },
      "execution_count": null,
      "outputs": []
    }
  ]
}
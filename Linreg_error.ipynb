{
  "nbformat": 4,
  "nbformat_minor": 0,
  "metadata": {
    "colab": {
      "provenance": [],
      "authorship_tag": "ABX9TyN/x1BW0p3932+U8gfBzl1K",
      "include_colab_link": true
    },
    "kernelspec": {
      "name": "python3",
      "display_name": "Python 3"
    },
    "language_info": {
      "name": "python"
    },
    "widgets": {
      "application/vnd.jupyter.widget-state+json": {
        "388b9b0f7c0f4becbac7a47d59ac9fb2": {
          "model_module": "@jupyter-widgets/controls",
          "model_name": "VBoxModel",
          "model_module_version": "1.5.0",
          "state": {
            "_dom_classes": [
              "widget-interact"
            ],
            "_model_module": "@jupyter-widgets/controls",
            "_model_module_version": "1.5.0",
            "_model_name": "VBoxModel",
            "_view_count": null,
            "_view_module": "@jupyter-widgets/controls",
            "_view_module_version": "1.5.0",
            "_view_name": "VBoxView",
            "box_style": "",
            "children": [
              "IPY_MODEL_8008ad6fb37a4e458848fc5fbf79ecea",
              "IPY_MODEL_31cb821e7b1f41afae57a28a8d4882ad"
            ],
            "layout": "IPY_MODEL_f828d040dd8e4cdf8a6e43317a283a2c"
          }
        },
        "8008ad6fb37a4e458848fc5fbf79ecea": {
          "model_module": "@jupyter-widgets/controls",
          "model_name": "FloatSliderModel",
          "model_module_version": "1.5.0",
          "state": {
            "_dom_classes": [],
            "_model_module": "@jupyter-widgets/controls",
            "_model_module_version": "1.5.0",
            "_model_name": "FloatSliderModel",
            "_view_count": null,
            "_view_module": "@jupyter-widgets/controls",
            "_view_module_version": "1.5.0",
            "_view_name": "FloatSliderView",
            "continuous_update": true,
            "description": "Last 1/σ",
            "description_tooltip": null,
            "disabled": false,
            "layout": "IPY_MODEL_08d3822676f14180884ca805cb837713",
            "max": 10,
            "min": 0.1,
            "orientation": "horizontal",
            "readout": true,
            "readout_format": ".2f",
            "step": 0.1,
            "style": "IPY_MODEL_6117c924d11e4c709755b01ccd0c3c1c",
            "value": 3.7
          }
        },
        "31cb821e7b1f41afae57a28a8d4882ad": {
          "model_module": "@jupyter-widgets/output",
          "model_name": "OutputModel",
          "model_module_version": "1.0.0",
          "state": {
            "_dom_classes": [],
            "_model_module": "@jupyter-widgets/output",
            "_model_module_version": "1.0.0",
            "_model_name": "OutputModel",
            "_view_count": null,
            "_view_module": "@jupyter-widgets/output",
            "_view_module_version": "1.0.0",
            "_view_name": "OutputView",
            "layout": "IPY_MODEL_3b0e0080e34c47f69dd1b8bdcdfee52f",
            "msg_id": "",
            "outputs": [
              {
                "output_type": "display_data",
                "data": {
                  "text/plain": "<Figure size 640x480 with 1 Axes>",
                  "image/png": "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\n"
                },
                "metadata": {}
              }
            ]
          }
        },
        "f828d040dd8e4cdf8a6e43317a283a2c": {
          "model_module": "@jupyter-widgets/base",
          "model_name": "LayoutModel",
          "model_module_version": "1.2.0",
          "state": {
            "_model_module": "@jupyter-widgets/base",
            "_model_module_version": "1.2.0",
            "_model_name": "LayoutModel",
            "_view_count": null,
            "_view_module": "@jupyter-widgets/base",
            "_view_module_version": "1.2.0",
            "_view_name": "LayoutView",
            "align_content": null,
            "align_items": null,
            "align_self": null,
            "border": null,
            "bottom": null,
            "display": null,
            "flex": null,
            "flex_flow": null,
            "grid_area": null,
            "grid_auto_columns": null,
            "grid_auto_flow": null,
            "grid_auto_rows": null,
            "grid_column": null,
            "grid_gap": null,
            "grid_row": null,
            "grid_template_areas": null,
            "grid_template_columns": null,
            "grid_template_rows": null,
            "height": null,
            "justify_content": null,
            "justify_items": null,
            "left": null,
            "margin": null,
            "max_height": null,
            "max_width": null,
            "min_height": null,
            "min_width": null,
            "object_fit": null,
            "object_position": null,
            "order": null,
            "overflow": null,
            "overflow_x": null,
            "overflow_y": null,
            "padding": null,
            "right": null,
            "top": null,
            "visibility": null,
            "width": null
          }
        },
        "08d3822676f14180884ca805cb837713": {
          "model_module": "@jupyter-widgets/base",
          "model_name": "LayoutModel",
          "model_module_version": "1.2.0",
          "state": {
            "_model_module": "@jupyter-widgets/base",
            "_model_module_version": "1.2.0",
            "_model_name": "LayoutModel",
            "_view_count": null,
            "_view_module": "@jupyter-widgets/base",
            "_view_module_version": "1.2.0",
            "_view_name": "LayoutView",
            "align_content": null,
            "align_items": null,
            "align_self": null,
            "border": null,
            "bottom": null,
            "display": null,
            "flex": null,
            "flex_flow": null,
            "grid_area": null,
            "grid_auto_columns": null,
            "grid_auto_flow": null,
            "grid_auto_rows": null,
            "grid_column": null,
            "grid_gap": null,
            "grid_row": null,
            "grid_template_areas": null,
            "grid_template_columns": null,
            "grid_template_rows": null,
            "height": null,
            "justify_content": null,
            "justify_items": null,
            "left": null,
            "margin": null,
            "max_height": null,
            "max_width": null,
            "min_height": null,
            "min_width": null,
            "object_fit": null,
            "object_position": null,
            "order": null,
            "overflow": null,
            "overflow_x": null,
            "overflow_y": null,
            "padding": null,
            "right": null,
            "top": null,
            "visibility": null,
            "width": null
          }
        },
        "6117c924d11e4c709755b01ccd0c3c1c": {
          "model_module": "@jupyter-widgets/controls",
          "model_name": "SliderStyleModel",
          "model_module_version": "1.5.0",
          "state": {
            "_model_module": "@jupyter-widgets/controls",
            "_model_module_version": "1.5.0",
            "_model_name": "SliderStyleModel",
            "_view_count": null,
            "_view_module": "@jupyter-widgets/base",
            "_view_module_version": "1.2.0",
            "_view_name": "StyleView",
            "description_width": "",
            "handle_color": null
          }
        },
        "3b0e0080e34c47f69dd1b8bdcdfee52f": {
          "model_module": "@jupyter-widgets/base",
          "model_name": "LayoutModel",
          "model_module_version": "1.2.0",
          "state": {
            "_model_module": "@jupyter-widgets/base",
            "_model_module_version": "1.2.0",
            "_model_name": "LayoutModel",
            "_view_count": null,
            "_view_module": "@jupyter-widgets/base",
            "_view_module_version": "1.2.0",
            "_view_name": "LayoutView",
            "align_content": null,
            "align_items": null,
            "align_self": null,
            "border": null,
            "bottom": null,
            "display": null,
            "flex": null,
            "flex_flow": null,
            "grid_area": null,
            "grid_auto_columns": null,
            "grid_auto_flow": null,
            "grid_auto_rows": null,
            "grid_column": null,
            "grid_gap": null,
            "grid_row": null,
            "grid_template_areas": null,
            "grid_template_columns": null,
            "grid_template_rows": null,
            "height": null,
            "justify_content": null,
            "justify_items": null,
            "left": null,
            "margin": null,
            "max_height": null,
            "max_width": null,
            "min_height": null,
            "min_width": null,
            "object_fit": null,
            "object_position": null,
            "order": null,
            "overflow": null,
            "overflow_x": null,
            "overflow_y": null,
            "padding": null,
            "right": null,
            "top": null,
            "visibility": null,
            "width": null
          }
        }
      }
    }
  },
  "cells": [
    {
      "cell_type": "markdown",
      "metadata": {
        "id": "view-in-github",
        "colab_type": "text"
      },
      "source": [
        "<a href=\"https://colab.research.google.com/github/tphlabs/python_workshop/blob/main/Linreg_error.ipynb\" target=\"_parent\"><img src=\"https://colab.research.google.com/assets/colab-badge.svg\" alt=\"Open In Colab\"/></a>"
      ]
    },
    {
      "cell_type": "markdown",
      "source": [
        "#Linear regression with uncertainties\n",
        "\n",
        "Interactive demo\n",
        "\n",
        "Evgeny Kolonsky, May 2024, v0.2"
      ],
      "metadata": {
        "id": "bUFIhyLYZFgv"
      }
    },
    {
      "cell_type": "markdown",
      "source": [
        "For $(x_i, y_i \\pm \\sigma_i)$ find best approximation $y = ax + b$ and define $(a, b)$ uncertainties."
      ],
      "metadata": {
        "id": "n7W8PloPZLZ2"
      }
    },
    {
      "cell_type": "code",
      "source": [
        "import numpy as np\n",
        "import matplotlib.pyplot as plt\n",
        "from scipy.optimize import curve_fit\n",
        "from ipywidgets import interact, FloatSlider, Output"
      ],
      "metadata": {
        "id": "nWo0_MbPZw6K"
      },
      "execution_count": 1,
      "outputs": []
    },
    {
      "cell_type": "code",
      "source": [
        "def linear(x, slope, offset):\n",
        "    return slope * x + offset\n",
        "\n",
        "\n",
        "measurements = '''\n",
        "# x, y, sigma\n",
        "0 1 .5\n",
        "1 2 .5\n",
        "2 3 .5\n",
        "3 4 .5\n",
        "4 0 0\n",
        "'''\n",
        "\n",
        "def show_fit(sigma_factor):\n",
        "    x, y, sigma = np.loadtxt(measurements.splitlines()).T\n",
        "    sigma[-1] = 1/sigma_factor # let's change uncertainty only in the last point (for clarity)\n",
        "\n",
        "    # find a, b with uncertainties\n",
        "    popt, pcov = curve_fit(linear, x, y, sigma=sigma)\n",
        "    a, b = popt\n",
        "    a_err, b_err = np.sqrt(np.diag(pcov))\n",
        "\n",
        "    # plot\n",
        "    plt.errorbar(x, y, yerr=sigma, fmt='o', capsize=2)\n",
        "    plt.errorbar(x[-1], y[-1], yerr=sigma[-1], fmt='ro', capsize=2)\n",
        "    plt.plot(x, linear(x, a, b), label=f'fit slope={a:.1f}±{a_err/np.abs(a)*100:.0f}% \\\n",
        "                                             offset={b:.1f}±{b_err/np.abs(b)*100:.0f}%')\n",
        "\n",
        "    plt.fill_between(x, (a - a_err) * x + (b + b_err),\n",
        "                        (a +a_err) * x + (b - b_err),\n",
        "                        alpha=0.5)\n",
        "    plt.legend()\n",
        "    plt.grid()\n",
        "    plt.ylim(-4, 10)\n",
        "    plt.show()\n",
        "\n",
        "interact(show_fit, sigma_factor = FloatSlider(value=.1, min=.1, max=10, step=.1,\n",
        "                                            description='Last 1/σ'));\n"
      ],
      "metadata": {
        "colab": {
          "base_uri": "https://localhost:8080/",
          "height": 467,
          "referenced_widgets": [
            "388b9b0f7c0f4becbac7a47d59ac9fb2",
            "8008ad6fb37a4e458848fc5fbf79ecea",
            "31cb821e7b1f41afae57a28a8d4882ad",
            "f828d040dd8e4cdf8a6e43317a283a2c",
            "08d3822676f14180884ca805cb837713",
            "6117c924d11e4c709755b01ccd0c3c1c",
            "3b0e0080e34c47f69dd1b8bdcdfee52f"
          ]
        },
        "id": "4sicIEpwdCsU",
        "outputId": "ed0d625d-a130-41da-fce5-41ad6f8803d2"
      },
      "execution_count": 9,
      "outputs": [
        {
          "output_type": "display_data",
          "data": {
            "text/plain": [
              "interactive(children=(FloatSlider(value=0.1, description='Last 1/σ', max=10.0, min=0.1), Output()), _dom_class…"
            ],
            "application/vnd.jupyter.widget-view+json": {
              "version_major": 2,
              "version_minor": 0,
              "model_id": "388b9b0f7c0f4becbac7a47d59ac9fb2"
            }
          },
          "metadata": {}
        }
      ]
    },
    {
      "cell_type": "code",
      "source": [],
      "metadata": {
        "id": "KjooZK0Ru2PT"
      },
      "execution_count": 2,
      "outputs": []
    }
  ]
}